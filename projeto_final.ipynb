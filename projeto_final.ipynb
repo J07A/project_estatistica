{
 "cells": [
  {
   "cell_type": "markdown",
   "metadata": {},
   "source": [
    "# Projeto - Análise Exploratória dos Dados\n",
    "__Equipe:__\n",
    "<br>\n",
    "Janaina Oliveira"
   ]
  },
  {
   "cell_type": "markdown",
   "metadata": {},
   "source": [
    "__Definição do Conjunto de Dados:__ "
   ]
  },
  {
   "cell_type": "markdown",
   "metadata": {},
   "source": [
    "O projeto foi desenvolvido utilizando o Conjunto de Dados de Informações Globais por País de 2023. Este conjunto abrangente oferece uma vasta gama de informações sobre todos os países do mundo, cobrindo uma ampla gama de indicadores e atributos. Ele engloba estatísticas demográficas, indicadores econômicos, fatores ambientais, métricas de saúde, estatísticas de educação e muito mais. Com cada país representado, esse conjunto de dados oferece uma perspectiva global completa sobre vários aspectos das nações, permitindo análises aprofundadas e comparações entre países.\n",
    "\n",
    "Disponivel: https://www.kaggle.com/datasets/nelgiriyewithana/countries-of-the-world-2023?select=world-data-2023.csv"
   ]
  },
  {
   "cell_type": "markdown",
   "metadata": {},
   "source": [
    "__Importação das bibliotecas__"
   ]
  },
  {
   "cell_type": "code",
   "execution_count": 33,
   "metadata": {},
   "outputs": [],
   "source": [
    "import pandas as pd\n",
    "import numpy as np\n",
    "import matplotlib.pyplot as plt\n",
    "import seaborn as sns\n",
    "import plotly.express as px\n",
    "\n",
    "import warnings\n",
    "warnings.filterwarnings('ignore')"
   ]
  },
  {
   "cell_type": "markdown",
   "metadata": {},
   "source": [
    "__Importação dos dados__"
   ]
  },
  {
   "cell_type": "code",
   "execution_count": 2,
   "metadata": {},
   "outputs": [],
   "source": [
    "# Base de dados de informações globais por país de 2023\n",
    "df = pd.read_csv('world-data-2023.csv')"
   ]
  },
  {
   "cell_type": "markdown",
   "metadata": {},
   "source": [
    "__Exploração dos dados__"
   ]
  },
  {
   "cell_type": "code",
   "execution_count": 3,
   "metadata": {},
   "outputs": [
    {
     "data": {
      "text/html": [
       "<div>\n",
       "<style scoped>\n",
       "    .dataframe tbody tr th:only-of-type {\n",
       "        vertical-align: middle;\n",
       "    }\n",
       "\n",
       "    .dataframe tbody tr th {\n",
       "        vertical-align: top;\n",
       "    }\n",
       "\n",
       "    .dataframe thead th {\n",
       "        text-align: right;\n",
       "    }\n",
       "</style>\n",
       "<table border=\"1\" class=\"dataframe\">\n",
       "  <thead>\n",
       "    <tr style=\"text-align: right;\">\n",
       "      <th></th>\n",
       "      <th>Country</th>\n",
       "      <th>Density\\n(P/Km2)</th>\n",
       "      <th>Abbreviation</th>\n",
       "      <th>Agricultural Land( %)</th>\n",
       "      <th>Land Area(Km2)</th>\n",
       "      <th>Armed Forces size</th>\n",
       "      <th>Birth Rate</th>\n",
       "      <th>Calling Code</th>\n",
       "      <th>Capital/Major City</th>\n",
       "      <th>Co2-Emissions</th>\n",
       "      <th>...</th>\n",
       "      <th>Out of pocket health expenditure</th>\n",
       "      <th>Physicians per thousand</th>\n",
       "      <th>Population</th>\n",
       "      <th>Population: Labor force participation (%)</th>\n",
       "      <th>Tax revenue (%)</th>\n",
       "      <th>Total tax rate</th>\n",
       "      <th>Unemployment rate</th>\n",
       "      <th>Urban_population</th>\n",
       "      <th>Latitude</th>\n",
       "      <th>Longitude</th>\n",
       "    </tr>\n",
       "  </thead>\n",
       "  <tbody>\n",
       "    <tr>\n",
       "      <th>0</th>\n",
       "      <td>Afghanistan</td>\n",
       "      <td>60</td>\n",
       "      <td>AF</td>\n",
       "      <td>58.10%</td>\n",
       "      <td>652,230</td>\n",
       "      <td>323,000</td>\n",
       "      <td>32.49</td>\n",
       "      <td>93.0</td>\n",
       "      <td>Kabul</td>\n",
       "      <td>8,672</td>\n",
       "      <td>...</td>\n",
       "      <td>78.40%</td>\n",
       "      <td>0.28</td>\n",
       "      <td>38,041,754</td>\n",
       "      <td>48.90%</td>\n",
       "      <td>9.30%</td>\n",
       "      <td>71.40%</td>\n",
       "      <td>11.12%</td>\n",
       "      <td>9,797,273</td>\n",
       "      <td>33.939110</td>\n",
       "      <td>67.709953</td>\n",
       "    </tr>\n",
       "    <tr>\n",
       "      <th>1</th>\n",
       "      <td>Albania</td>\n",
       "      <td>105</td>\n",
       "      <td>AL</td>\n",
       "      <td>43.10%</td>\n",
       "      <td>28,748</td>\n",
       "      <td>9,000</td>\n",
       "      <td>11.78</td>\n",
       "      <td>355.0</td>\n",
       "      <td>Tirana</td>\n",
       "      <td>4,536</td>\n",
       "      <td>...</td>\n",
       "      <td>56.90%</td>\n",
       "      <td>1.20</td>\n",
       "      <td>2,854,191</td>\n",
       "      <td>55.70%</td>\n",
       "      <td>18.60%</td>\n",
       "      <td>36.60%</td>\n",
       "      <td>12.33%</td>\n",
       "      <td>1,747,593</td>\n",
       "      <td>41.153332</td>\n",
       "      <td>20.168331</td>\n",
       "    </tr>\n",
       "    <tr>\n",
       "      <th>2</th>\n",
       "      <td>Algeria</td>\n",
       "      <td>18</td>\n",
       "      <td>DZ</td>\n",
       "      <td>17.40%</td>\n",
       "      <td>2,381,741</td>\n",
       "      <td>317,000</td>\n",
       "      <td>24.28</td>\n",
       "      <td>213.0</td>\n",
       "      <td>Algiers</td>\n",
       "      <td>150,006</td>\n",
       "      <td>...</td>\n",
       "      <td>28.10%</td>\n",
       "      <td>1.72</td>\n",
       "      <td>43,053,054</td>\n",
       "      <td>41.20%</td>\n",
       "      <td>37.20%</td>\n",
       "      <td>66.10%</td>\n",
       "      <td>11.70%</td>\n",
       "      <td>31,510,100</td>\n",
       "      <td>28.033886</td>\n",
       "      <td>1.659626</td>\n",
       "    </tr>\n",
       "    <tr>\n",
       "      <th>3</th>\n",
       "      <td>Andorra</td>\n",
       "      <td>164</td>\n",
       "      <td>AD</td>\n",
       "      <td>40.00%</td>\n",
       "      <td>468</td>\n",
       "      <td>NaN</td>\n",
       "      <td>7.20</td>\n",
       "      <td>376.0</td>\n",
       "      <td>Andorra la Vella</td>\n",
       "      <td>469</td>\n",
       "      <td>...</td>\n",
       "      <td>36.40%</td>\n",
       "      <td>3.33</td>\n",
       "      <td>77,142</td>\n",
       "      <td>NaN</td>\n",
       "      <td>NaN</td>\n",
       "      <td>NaN</td>\n",
       "      <td>NaN</td>\n",
       "      <td>67,873</td>\n",
       "      <td>42.506285</td>\n",
       "      <td>1.521801</td>\n",
       "    </tr>\n",
       "    <tr>\n",
       "      <th>4</th>\n",
       "      <td>Angola</td>\n",
       "      <td>26</td>\n",
       "      <td>AO</td>\n",
       "      <td>47.50%</td>\n",
       "      <td>1,246,700</td>\n",
       "      <td>117,000</td>\n",
       "      <td>40.73</td>\n",
       "      <td>244.0</td>\n",
       "      <td>Luanda</td>\n",
       "      <td>34,693</td>\n",
       "      <td>...</td>\n",
       "      <td>33.40%</td>\n",
       "      <td>0.21</td>\n",
       "      <td>31,825,295</td>\n",
       "      <td>77.50%</td>\n",
       "      <td>9.20%</td>\n",
       "      <td>49.10%</td>\n",
       "      <td>6.89%</td>\n",
       "      <td>21,061,025</td>\n",
       "      <td>-11.202692</td>\n",
       "      <td>17.873887</td>\n",
       "    </tr>\n",
       "    <tr>\n",
       "      <th>...</th>\n",
       "      <td>...</td>\n",
       "      <td>...</td>\n",
       "      <td>...</td>\n",
       "      <td>...</td>\n",
       "      <td>...</td>\n",
       "      <td>...</td>\n",
       "      <td>...</td>\n",
       "      <td>...</td>\n",
       "      <td>...</td>\n",
       "      <td>...</td>\n",
       "      <td>...</td>\n",
       "      <td>...</td>\n",
       "      <td>...</td>\n",
       "      <td>...</td>\n",
       "      <td>...</td>\n",
       "      <td>...</td>\n",
       "      <td>...</td>\n",
       "      <td>...</td>\n",
       "      <td>...</td>\n",
       "      <td>...</td>\n",
       "      <td>...</td>\n",
       "    </tr>\n",
       "    <tr>\n",
       "      <th>190</th>\n",
       "      <td>Venezuela</td>\n",
       "      <td>32</td>\n",
       "      <td>VE</td>\n",
       "      <td>24.50%</td>\n",
       "      <td>912,050</td>\n",
       "      <td>343,000</td>\n",
       "      <td>17.88</td>\n",
       "      <td>58.0</td>\n",
       "      <td>Caracas</td>\n",
       "      <td>164,175</td>\n",
       "      <td>...</td>\n",
       "      <td>45.80%</td>\n",
       "      <td>1.92</td>\n",
       "      <td>28,515,829</td>\n",
       "      <td>59.70%</td>\n",
       "      <td>NaN</td>\n",
       "      <td>73.30%</td>\n",
       "      <td>8.80%</td>\n",
       "      <td>25,162,368</td>\n",
       "      <td>6.423750</td>\n",
       "      <td>-66.589730</td>\n",
       "    </tr>\n",
       "    <tr>\n",
       "      <th>191</th>\n",
       "      <td>Vietnam</td>\n",
       "      <td>314</td>\n",
       "      <td>VN</td>\n",
       "      <td>39.30%</td>\n",
       "      <td>331,210</td>\n",
       "      <td>522,000</td>\n",
       "      <td>16.75</td>\n",
       "      <td>84.0</td>\n",
       "      <td>Hanoi</td>\n",
       "      <td>192,668</td>\n",
       "      <td>...</td>\n",
       "      <td>43.50%</td>\n",
       "      <td>0.82</td>\n",
       "      <td>96,462,106</td>\n",
       "      <td>77.40%</td>\n",
       "      <td>19.10%</td>\n",
       "      <td>37.60%</td>\n",
       "      <td>2.01%</td>\n",
       "      <td>35,332,140</td>\n",
       "      <td>14.058324</td>\n",
       "      <td>108.277199</td>\n",
       "    </tr>\n",
       "    <tr>\n",
       "      <th>192</th>\n",
       "      <td>Yemen</td>\n",
       "      <td>56</td>\n",
       "      <td>YE</td>\n",
       "      <td>44.60%</td>\n",
       "      <td>527,968</td>\n",
       "      <td>40,000</td>\n",
       "      <td>30.45</td>\n",
       "      <td>967.0</td>\n",
       "      <td>Sanaa</td>\n",
       "      <td>10,609</td>\n",
       "      <td>...</td>\n",
       "      <td>81.00%</td>\n",
       "      <td>0.31</td>\n",
       "      <td>29,161,922</td>\n",
       "      <td>38.00%</td>\n",
       "      <td>NaN</td>\n",
       "      <td>26.60%</td>\n",
       "      <td>12.91%</td>\n",
       "      <td>10,869,523</td>\n",
       "      <td>15.552727</td>\n",
       "      <td>48.516388</td>\n",
       "    </tr>\n",
       "    <tr>\n",
       "      <th>193</th>\n",
       "      <td>Zambia</td>\n",
       "      <td>25</td>\n",
       "      <td>ZM</td>\n",
       "      <td>32.10%</td>\n",
       "      <td>752,618</td>\n",
       "      <td>16,000</td>\n",
       "      <td>36.19</td>\n",
       "      <td>260.0</td>\n",
       "      <td>Lusaka</td>\n",
       "      <td>5,141</td>\n",
       "      <td>...</td>\n",
       "      <td>27.50%</td>\n",
       "      <td>1.19</td>\n",
       "      <td>17,861,030</td>\n",
       "      <td>74.60%</td>\n",
       "      <td>16.20%</td>\n",
       "      <td>15.60%</td>\n",
       "      <td>11.43%</td>\n",
       "      <td>7,871,713</td>\n",
       "      <td>-13.133897</td>\n",
       "      <td>27.849332</td>\n",
       "    </tr>\n",
       "    <tr>\n",
       "      <th>194</th>\n",
       "      <td>Zimbabwe</td>\n",
       "      <td>38</td>\n",
       "      <td>ZW</td>\n",
       "      <td>41.90%</td>\n",
       "      <td>390,757</td>\n",
       "      <td>51,000</td>\n",
       "      <td>30.68</td>\n",
       "      <td>263.0</td>\n",
       "      <td>Harare</td>\n",
       "      <td>10,983</td>\n",
       "      <td>...</td>\n",
       "      <td>25.80%</td>\n",
       "      <td>0.21</td>\n",
       "      <td>14,645,468</td>\n",
       "      <td>83.10%</td>\n",
       "      <td>20.70%</td>\n",
       "      <td>31.60%</td>\n",
       "      <td>4.95%</td>\n",
       "      <td>4,717,305</td>\n",
       "      <td>-19.015438</td>\n",
       "      <td>29.154857</td>\n",
       "    </tr>\n",
       "  </tbody>\n",
       "</table>\n",
       "<p>195 rows × 35 columns</p>\n",
       "</div>"
      ],
      "text/plain": [
       "         Country Density\\n(P/Km2) Abbreviation Agricultural Land( %)  \\\n",
       "0    Afghanistan               60           AF                58.10%   \n",
       "1        Albania              105           AL                43.10%   \n",
       "2        Algeria               18           DZ                17.40%   \n",
       "3        Andorra              164           AD                40.00%   \n",
       "4         Angola               26           AO                47.50%   \n",
       "..           ...              ...          ...                   ...   \n",
       "190    Venezuela               32           VE                24.50%   \n",
       "191      Vietnam              314           VN                39.30%   \n",
       "192        Yemen               56           YE                44.60%   \n",
       "193       Zambia               25           ZM                32.10%   \n",
       "194     Zimbabwe               38           ZW                41.90%   \n",
       "\n",
       "    Land Area(Km2) Armed Forces size  Birth Rate  Calling Code  \\\n",
       "0          652,230           323,000       32.49          93.0   \n",
       "1           28,748             9,000       11.78         355.0   \n",
       "2        2,381,741           317,000       24.28         213.0   \n",
       "3              468               NaN        7.20         376.0   \n",
       "4        1,246,700           117,000       40.73         244.0   \n",
       "..             ...               ...         ...           ...   \n",
       "190        912,050           343,000       17.88          58.0   \n",
       "191        331,210           522,000       16.75          84.0   \n",
       "192        527,968            40,000       30.45         967.0   \n",
       "193        752,618            16,000       36.19         260.0   \n",
       "194        390,757            51,000       30.68         263.0   \n",
       "\n",
       "    Capital/Major City Co2-Emissions  ... Out of pocket health expenditure  \\\n",
       "0                Kabul         8,672  ...                           78.40%   \n",
       "1               Tirana         4,536  ...                           56.90%   \n",
       "2              Algiers       150,006  ...                           28.10%   \n",
       "3     Andorra la Vella           469  ...                           36.40%   \n",
       "4               Luanda        34,693  ...                           33.40%   \n",
       "..                 ...           ...  ...                              ...   \n",
       "190            Caracas       164,175  ...                           45.80%   \n",
       "191              Hanoi       192,668  ...                           43.50%   \n",
       "192              Sanaa        10,609  ...                           81.00%   \n",
       "193             Lusaka         5,141  ...                           27.50%   \n",
       "194             Harare        10,983  ...                           25.80%   \n",
       "\n",
       "    Physicians per thousand  Population  \\\n",
       "0                      0.28  38,041,754   \n",
       "1                      1.20   2,854,191   \n",
       "2                      1.72  43,053,054   \n",
       "3                      3.33      77,142   \n",
       "4                      0.21  31,825,295   \n",
       "..                      ...         ...   \n",
       "190                    1.92  28,515,829   \n",
       "191                    0.82  96,462,106   \n",
       "192                    0.31  29,161,922   \n",
       "193                    1.19  17,861,030   \n",
       "194                    0.21  14,645,468   \n",
       "\n",
       "     Population: Labor force participation (%) Tax revenue (%) Total tax rate  \\\n",
       "0                                       48.90%           9.30%         71.40%   \n",
       "1                                       55.70%          18.60%         36.60%   \n",
       "2                                       41.20%          37.20%         66.10%   \n",
       "3                                          NaN             NaN            NaN   \n",
       "4                                       77.50%           9.20%         49.10%   \n",
       "..                                         ...             ...            ...   \n",
       "190                                     59.70%             NaN         73.30%   \n",
       "191                                     77.40%          19.10%         37.60%   \n",
       "192                                     38.00%             NaN         26.60%   \n",
       "193                                     74.60%          16.20%         15.60%   \n",
       "194                                     83.10%          20.70%         31.60%   \n",
       "\n",
       "    Unemployment rate Urban_population   Latitude   Longitude  \n",
       "0              11.12%        9,797,273  33.939110   67.709953  \n",
       "1              12.33%        1,747,593  41.153332   20.168331  \n",
       "2              11.70%       31,510,100  28.033886    1.659626  \n",
       "3                 NaN           67,873  42.506285    1.521801  \n",
       "4               6.89%       21,061,025 -11.202692   17.873887  \n",
       "..                ...              ...        ...         ...  \n",
       "190             8.80%       25,162,368   6.423750  -66.589730  \n",
       "191             2.01%       35,332,140  14.058324  108.277199  \n",
       "192            12.91%       10,869,523  15.552727   48.516388  \n",
       "193            11.43%        7,871,713 -13.133897   27.849332  \n",
       "194             4.95%        4,717,305 -19.015438   29.154857  \n",
       "\n",
       "[195 rows x 35 columns]"
      ]
     },
     "execution_count": 3,
     "metadata": {},
     "output_type": "execute_result"
    }
   ],
   "source": [
    "# Visualizar todos os dados\n",
    "df.head(195)"
   ]
  },
  {
   "cell_type": "code",
   "execution_count": 4,
   "metadata": {},
   "outputs": [
    {
     "name": "stdout",
     "output_type": "stream",
     "text": [
      "<class 'pandas.core.frame.DataFrame'>\n",
      "RangeIndex: 195 entries, 0 to 194\n",
      "Data columns (total 35 columns):\n",
      " #   Column                                     Non-Null Count  Dtype  \n",
      "---  ------                                     --------------  -----  \n",
      " 0   Country                                    195 non-null    object \n",
      " 1   Density\n",
      "(P/Km2)                            195 non-null    object \n",
      " 2   Abbreviation                               188 non-null    object \n",
      " 3   Agricultural Land( %)                      188 non-null    object \n",
      " 4   Land Area(Km2)                             194 non-null    object \n",
      " 5   Armed Forces size                          171 non-null    object \n",
      " 6   Birth Rate                                 189 non-null    float64\n",
      " 7   Calling Code                               194 non-null    float64\n",
      " 8   Capital/Major City                         192 non-null    object \n",
      " 9   Co2-Emissions                              188 non-null    object \n",
      " 10  CPI                                        178 non-null    object \n",
      " 11  CPI Change (%)                             179 non-null    object \n",
      " 12  Currency-Code                              180 non-null    object \n",
      " 13  Fertility Rate                             188 non-null    float64\n",
      " 14  Forested Area (%)                          188 non-null    object \n",
      " 15  Gasoline Price                             175 non-null    object \n",
      " 16  GDP                                        193 non-null    object \n",
      " 17  Gross primary education enrollment (%)     188 non-null    object \n",
      " 18  Gross tertiary education enrollment (%)    183 non-null    object \n",
      " 19  Infant mortality                           189 non-null    float64\n",
      " 20  Largest city                               189 non-null    object \n",
      " 21  Life expectancy                            187 non-null    float64\n",
      " 22  Maternal mortality ratio                   181 non-null    float64\n",
      " 23  Minimum wage                               150 non-null    object \n",
      " 24  Official language                          190 non-null    object \n",
      " 25  Out of pocket health expenditure           188 non-null    object \n",
      " 26  Physicians per thousand                    188 non-null    float64\n",
      " 27  Population                                 194 non-null    object \n",
      " 28  Population: Labor force participation (%)  176 non-null    object \n",
      " 29  Tax revenue (%)                            169 non-null    object \n",
      " 30  Total tax rate                             183 non-null    object \n",
      " 31  Unemployment rate                          176 non-null    object \n",
      " 32  Urban_population                           190 non-null    object \n",
      " 33  Latitude                                   194 non-null    float64\n",
      " 34  Longitude                                  194 non-null    float64\n",
      "dtypes: float64(9), object(26)\n",
      "memory usage: 53.4+ KB\n",
      "None\n"
     ]
    }
   ],
   "source": [
    "# Verificar as informações sobre as colunas e os tipos de dados\n",
    "print(df.info())"
   ]
  },
  {
   "cell_type": "code",
   "execution_count": 5,
   "metadata": {},
   "outputs": [
    {
     "name": "stdout",
     "output_type": "stream",
     "text": [
      "<class 'pandas.core.frame.DataFrame'>\n",
      "RangeIndex: 195 entries, 0 to 194\n",
      "Data columns (total 35 columns):\n",
      " #   Column                                     Non-Null Count  Dtype  \n",
      "---  ------                                     --------------  -----  \n",
      " 0   Country                                    195 non-null    object \n",
      " 1   Density\n",
      "(P/Km2)                            195 non-null    float64\n",
      " 2   Abbreviation                               188 non-null    object \n",
      " 3   Agricultural Land( %)                      188 non-null    float64\n",
      " 4   Land Area(Km2)                             194 non-null    float64\n",
      " 5   Armed Forces size                          171 non-null    float64\n",
      " 6   Birth Rate                                 189 non-null    float64\n",
      " 7   Calling Code                               194 non-null    float64\n",
      " 8   Capital/Major City                         192 non-null    object \n",
      " 9   Co2-Emissions                              188 non-null    float64\n",
      " 10  CPI                                        178 non-null    float64\n",
      " 11  CPI Change (%)                             179 non-null    float64\n",
      " 12  Currency-Code                              180 non-null    object \n",
      " 13  Fertility Rate                             188 non-null    float64\n",
      " 14  Forested Area (%)                          188 non-null    float64\n",
      " 15  Gasoline Price                             175 non-null    float64\n",
      " 16  GDP                                        193 non-null    float64\n",
      " 17  Gross primary education enrollment (%)     188 non-null    float64\n",
      " 18  Gross tertiary education enrollment (%)    183 non-null    float64\n",
      " 19  Infant mortality                           189 non-null    float64\n",
      " 20  Largest city                               189 non-null    object \n",
      " 21  Life expectancy                            187 non-null    float64\n",
      " 22  Maternal mortality ratio                   181 non-null    float64\n",
      " 23  Minimum wage                               150 non-null    float64\n",
      " 24  Official language                          190 non-null    object \n",
      " 25  Out of pocket health expenditure           188 non-null    float64\n",
      " 26  Physicians per thousand                    188 non-null    float64\n",
      " 27  Population                                 194 non-null    float64\n",
      " 28  Population: Labor force participation (%)  176 non-null    float64\n",
      " 29  Tax revenue (%)                            169 non-null    float64\n",
      " 30  Total tax rate                             183 non-null    float64\n",
      " 31  Unemployment rate                          176 non-null    float64\n",
      " 32  Urban_population                           190 non-null    float64\n",
      " 33  Latitude                                   194 non-null    float64\n",
      " 34  Longitude                                  194 non-null    float64\n",
      "dtypes: float64(29), object(6)\n",
      "memory usage: 53.4+ KB\n",
      "None\n"
     ]
    }
   ],
   "source": [
    "# Transformar os dados numericos com tipo object (string) para float \n",
    "var_num = ['Density\\n(P/Km2)', 'Agricultural Land( %)', 'Land Area(Km2)', 'Armed Forces size', 'Birth Rate', 'Co2-Emissions', 'CPI', 'CPI Change (%)', 'Fertility Rate', 'Forested Area (%)', 'Gasoline Price', 'GDP', 'Gross primary education enrollment (%)', 'Gross tertiary education enrollment (%)', 'Infant mortality', 'Life expectancy', 'Maternal mortality ratio', 'Minimum wage', 'Out of pocket health expenditure', 'Physicians per thousand', 'Population', 'Population: Labor force participation (%)', 'Tax revenue (%)', 'Total tax rate', 'Unemployment rate', 'Urban_population']\n",
    "\n",
    "# Loop para verificar e alterar o tipo de cada variável\n",
    "for variable in var_num:\n",
    "    if (df[variable].dtypes == 'object'):\n",
    "        df[variable] = df[variable].str.replace(',', '')\n",
    "        df[variable] = df[variable].str.replace('%', '')\n",
    "        df[variable] = df[variable].str.replace('$', '')\n",
    "        df[variable] = df[variable].astype(float)\n",
    "\n",
    "print(df.info())"
   ]
  },
  {
   "cell_type": "code",
   "execution_count": 6,
   "metadata": {},
   "outputs": [
    {
     "name": "stdout",
     "output_type": "stream",
     "text": [
      "Country                                       0\n",
      "Density\\n(P/Km2)                              0\n",
      "Abbreviation                                  7\n",
      "Agricultural Land( %)                         7\n",
      "Land Area(Km2)                                1\n",
      "Armed Forces size                            24\n",
      "Birth Rate                                    6\n",
      "Calling Code                                  1\n",
      "Capital/Major City                            3\n",
      "Co2-Emissions                                 7\n",
      "CPI                                          17\n",
      "CPI Change (%)                               16\n",
      "Currency-Code                                15\n",
      "Fertility Rate                                7\n",
      "Forested Area (%)                             7\n",
      "Gasoline Price                               20\n",
      "GDP                                           2\n",
      "Gross primary education enrollment (%)        7\n",
      "Gross tertiary education enrollment (%)      12\n",
      "Infant mortality                              6\n",
      "Largest city                                  6\n",
      "Life expectancy                               8\n",
      "Maternal mortality ratio                     14\n",
      "Minimum wage                                 45\n",
      "Official language                             5\n",
      "Out of pocket health expenditure              7\n",
      "Physicians per thousand                       7\n",
      "Population                                    1\n",
      "Population: Labor force participation (%)    19\n",
      "Tax revenue (%)                              26\n",
      "Total tax rate                               12\n",
      "Unemployment rate                            19\n",
      "Urban_population                              5\n",
      "Latitude                                      1\n",
      "Longitude                                     1\n",
      "dtype: int64\n"
     ]
    }
   ],
   "source": [
    "# Verificar a quantidade de dados NaN\n",
    "data_null = df.isnull().sum()\n",
    "print(data_null)"
   ]
  },
  {
   "cell_type": "code",
   "execution_count": 7,
   "metadata": {},
   "outputs": [
    {
     "name": "stdout",
     "output_type": "stream",
     "text": [
      "       Density\\n(P/Km2)  Agricultural Land( %)  Land Area(Km2)  \\\n",
      "count        195.000000             188.000000    1.940000e+02   \n",
      "mean         356.764103              39.117553    6.896244e+05   \n",
      "std         1982.888967              21.783052    1.921609e+06   \n",
      "min            2.000000               0.600000    0.000000e+00   \n",
      "25%           35.500000              21.700000    2.382825e+04   \n",
      "50%           89.000000              39.600000    1.195110e+05   \n",
      "75%          216.500000              55.375000    5.242560e+05   \n",
      "max        26337.000000              82.600000    1.709824e+07   \n",
      "\n",
      "       Armed Forces size  Birth Rate  Calling Code  Co2-Emissions  \\\n",
      "count       1.710000e+02  189.000000    194.000000   1.880000e+02   \n",
      "mean        1.592749e+05   20.214974    360.546392   1.777992e+05   \n",
      "std         3.806288e+05    9.945774    323.236419   8.387903e+05   \n",
      "min         0.000000e+00    5.900000      1.000000   1.100000e+01   \n",
      "25%         1.100000e+04   11.300000     82.500000   2.304250e+03   \n",
      "50%         3.100000e+04   17.950000    255.500000   1.230300e+04   \n",
      "75%         1.420000e+05   28.750000    506.750000   6.388425e+04   \n",
      "max         3.031000e+06   46.080000   1876.000000   9.893038e+06   \n",
      "\n",
      "               CPI  CPI Change (%)  Fertility Rate  ...  \\\n",
      "count   178.000000      179.000000      188.000000  ...   \n",
      "mean    190.460955        6.722346        2.698138  ...   \n",
      "std     397.947380       24.450414        1.282267  ...   \n",
      "min      99.030000       -4.300000        0.980000  ...   \n",
      "25%     113.885000        1.000000        1.705000  ...   \n",
      "50%     125.340000        2.300000        2.245000  ...   \n",
      "75%     157.265000        4.250000        3.597500  ...   \n",
      "max    4583.710000      254.900000        6.910000  ...   \n",
      "\n",
      "       Out of pocket health expenditure  Physicians per thousand  \\\n",
      "count                        188.000000               188.000000   \n",
      "mean                          32.637234                 1.839840   \n",
      "std                           19.172697                 1.684261   \n",
      "min                            0.200000                 0.010000   \n",
      "25%                           17.450000                 0.332500   \n",
      "50%                           30.700000                 1.460000   \n",
      "75%                           43.975000                 2.935000   \n",
      "max                           81.600000                 8.420000   \n",
      "\n",
      "         Population  Population: Labor force participation (%)  \\\n",
      "count  1.940000e+02                                 176.000000   \n",
      "mean   3.938116e+07                                  62.738068   \n",
      "std    1.450924e+08                                  10.502907   \n",
      "min    8.360000e+02                                  38.000000   \n",
      "25%    1.962678e+06                                  56.150000   \n",
      "50%    8.826588e+06                                  62.450000   \n",
      "75%    2.858549e+07                                  69.500000   \n",
      "max    1.397715e+09                                  86.800000   \n",
      "\n",
      "       Tax revenue (%)  Total tax rate  Unemployment rate  Urban_population  \\\n",
      "count       169.000000      183.000000         176.000000      1.900000e+02   \n",
      "mean         16.573964       40.822404           6.886364      2.230454e+07   \n",
      "std           6.961632       20.557662           5.079216      7.543050e+07   \n",
      "min           0.000000        8.000000           0.090000      5.464000e+03   \n",
      "25%          11.700000       30.600000           3.395000      1.152961e+06   \n",
      "50%          16.300000       37.200000           5.360000      4.678104e+06   \n",
      "75%          21.100000       48.000000           9.490000      1.490324e+07   \n",
      "max          37.200000      219.600000          28.180000      8.429340e+08   \n",
      "\n",
      "         Latitude   Longitude  \n",
      "count  194.000000  194.000000  \n",
      "mean    19.092351   20.232434  \n",
      "std     23.961779   66.716110  \n",
      "min    -40.900557 -175.198242  \n",
      "25%      4.544175   -7.941496  \n",
      "50%     17.273849   20.972652  \n",
      "75%     40.124603   48.281523  \n",
      "max     64.963051  178.065032  \n",
      "\n",
      "[8 rows x 29 columns]\n"
     ]
    }
   ],
   "source": [
    "# Resumo estatístico das variáveis numéricas\n",
    "print(df.describe())"
   ]
  },
  {
   "cell_type": "code",
   "execution_count": 8,
   "metadata": {},
   "outputs": [
    {
     "name": "stdout",
     "output_type": "stream",
     "text": [
      "         Country Abbreviation\n",
      "0    Afghanistan           AF\n",
      "1        Albania           AL\n",
      "2        Algeria           DZ\n",
      "3        Andorra           AD\n",
      "4         Angola           AO\n",
      "..           ...          ...\n",
      "190    Venezuela           VE\n",
      "191      Vietnam           VN\n",
      "192        Yemen           YE\n",
      "193       Zambia           ZM\n",
      "194     Zimbabwe           ZW\n",
      "\n",
      "[195 rows x 2 columns]\n"
     ]
    }
   ],
   "source": [
    "# Imprimindo nome dos países e abreviações\n",
    "print(df[['Country', 'Abbreviation']])"
   ]
  },
  {
   "cell_type": "code",
   "execution_count": 9,
   "metadata": {},
   "outputs": [
    {
     "name": "stdout",
     "output_type": "stream",
     "text": [
      "0      Afghanistan\n",
      "1          Albania\n",
      "2          Algeria\n",
      "3          Andorra\n",
      "4           Angola\n",
      "          ...     \n",
      "190      Venezuela\n",
      "191        Vietnam\n",
      "192          Yemen\n",
      "193         Zambia\n",
      "194       Zimbabwe\n",
      "Name: Country, Length: 195, dtype: object\n"
     ]
    }
   ],
   "source": [
    "# Corrigindo à codificação de caracteres substituindo o nome incorreto por \"São Tomé e Príncipe\"\n",
    "df['Country'] = df['Country'].replace(\"S�����������\", \"São Tomé e Príncipe\")\n",
    "\n",
    "# Exibir o DataFrame após a substituição\n",
    "print(df['Country'])\n"
   ]
  },
  {
   "cell_type": "code",
   "execution_count": 10,
   "metadata": {},
   "outputs": [
    {
     "name": "stdout",
     "output_type": "stream",
     "text": [
      "                            Country Abbreviation\n",
      "39            Republic of the Congo          NaN\n",
      "56                         Eswatini          NaN\n",
      "73                     Vatican City          NaN\n",
      "81              Republic of Ireland          NaN\n",
      "119                         Namibia          NaN\n",
      "128                 North Macedonia          NaN\n",
      "133  Palestinian National Authority          NaN\n"
     ]
    }
   ],
   "source": [
    "# Verificar se há valores NaN na coluna de abreviatura\n",
    "df_abbreviation = df[df['Abbreviation'].isna()]\n",
    "\n",
    "# Exibir as linhas que contêm valores NaN na coluna de abreviatura\n",
    "print(df_abbreviation[['Country', 'Abbreviation']])"
   ]
  },
  {
   "cell_type": "code",
   "execution_count": 11,
   "metadata": {},
   "outputs": [
    {
     "name": "stdout",
     "output_type": "stream",
     "text": [
      "         Country Abbreviation\n",
      "0    Afghanistan           AF\n",
      "1        Albania           AL\n",
      "2        Algeria           DZ\n",
      "3        Andorra           AD\n",
      "4         Angola           AO\n",
      "..           ...          ...\n",
      "190    Venezuela           VE\n",
      "191      Vietnam           VN\n",
      "192        Yemen           YE\n",
      "193       Zambia           ZM\n",
      "194     Zimbabwe           ZW\n",
      "\n",
      "[195 rows x 2 columns]\n"
     ]
    }
   ],
   "source": [
    "# Corrigir os valores NaN na coluna de abreviação\n",
    "# Criar um dicionário com os nomes dos países e suas abreviações\n",
    "abbreviation_dict = {\n",
    "    'Republic of the Congo': 'RC',\n",
    "    'Eswatini': 'EZ',\n",
    "    'Vatican City': 'VC',\n",
    "    'Republic of Ireland': 'IR',\n",
    "    'Namibia': 'NA',\n",
    "    'North Macedonia': 'NM',\n",
    "    'Palestinian National Authority': 'PA'\n",
    "}\n",
    "\n",
    "# Atualizar os valores na coluna de abreviação usando o dicionário\n",
    "for country, abbreviation in abbreviation_dict.items():\n",
    "    df.loc[df['Country'] == country, 'Abbreviation'] = abbreviation\n",
    "\n",
    "# Exibir o DataFrame atualizado\n",
    "print(df[['Country', 'Abbreviation']])\n"
   ]
  },
  {
   "cell_type": "code",
   "execution_count": 12,
   "metadata": {},
   "outputs": [
    {
     "name": "stdout",
     "output_type": "stream",
     "text": [
      "                            Country  Agricultural Land( %)\n",
      "56                         Eswatini                    NaN\n",
      "73                     Vatican City                    NaN\n",
      "113                          Monaco                    NaN\n",
      "120                           Nauru                    NaN\n",
      "128                 North Macedonia                    NaN\n",
      "133  Palestinian National Authority                    NaN\n",
      "163                     South Sudan                    NaN\n"
     ]
    }
   ],
   "source": [
    "# Verificar se há valores NaN na coluna de Land Area(Km2)\n",
    "df_agricultural = df[df['Agricultural Land( %)'].isna()]\n",
    "\n",
    "# Exibir as linhas que contêm valores NaN na coluna de área agrícola\n",
    "print(df_agricultural[['Country', 'Agricultural Land( %)']])\n"
   ]
  },
  {
   "cell_type": "markdown",
   "metadata": {},
   "source": [
    "Esses países serão removidos, pois não tem muitas informações a respeito deles. Dessa forma, não interfere na análise final."
   ]
  },
  {
   "cell_type": "code",
   "execution_count": 13,
   "metadata": {},
   "outputs": [
    {
     "name": "stdout",
     "output_type": "stream",
     "text": [
      "         Country  Agricultural Land( %)\n",
      "0    Afghanistan                   58.1\n",
      "1        Albania                   43.1\n",
      "2        Algeria                   17.4\n",
      "3        Andorra                   40.0\n",
      "4         Angola                   47.5\n",
      "..           ...                    ...\n",
      "190    Venezuela                   24.5\n",
      "191      Vietnam                   39.3\n",
      "192        Yemen                   44.6\n",
      "193       Zambia                   32.1\n",
      "194     Zimbabwe                   41.9\n",
      "\n",
      "[188 rows x 2 columns]\n"
     ]
    }
   ],
   "source": [
    "# Remover os países que contêm valores NaN na coluna de área agrícola\n",
    "df = df.dropna(subset=['Agricultural Land( %)'])\n",
    "\n",
    "# Exibir o DataFrame após a remoção das linhas\n",
    "print(df[['Country', 'Agricultural Land( %)']])\n"
   ]
  },
  {
   "cell_type": "code",
   "execution_count": 14,
   "metadata": {},
   "outputs": [
    {
     "name": "stdout",
     "output_type": "stream",
     "text": [
      "                              Country  Armed Forces size\n",
      "3                             Andorra                NaN\n",
      "38                            Comoros                NaN\n",
      "48                           Dominica                NaN\n",
      "67                            Grenada                NaN\n",
      "89                           Kiribati                NaN\n",
      "98                      Liechtenstein                NaN\n",
      "107                  Marshall Islands                NaN\n",
      "111    Federated States of Micronesia                NaN\n",
      "132                             Palau                NaN\n",
      "145             Saint Kitts and Nevis                NaN\n",
      "146                       Saint Lucia                NaN\n",
      "147  Saint Vincent and the Grenadines                NaN\n",
      "148                             Samoa                NaN\n",
      "149                        San Marino                NaN\n",
      "159                   Solomon Islands                NaN\n",
      "176                             Tonga                NaN\n",
      "181                            Tuvalu                NaN\n",
      "189                           Vanuatu                NaN\n"
     ]
    }
   ],
   "source": [
    "# Verificar se há valores NaN na coluna de tamanho das forças armadas (Armed Forces size)\n",
    "df_armed_forces = df[df['Armed Forces size'].isna()]\n",
    "\n",
    "# Exibir as linhas que contêm valores NaN na coluna de tamanho das forças armadas\n",
    "print(df_armed_forces[['Country', 'Armed Forces size']])\n"
   ]
  },
  {
   "cell_type": "markdown",
   "metadata": {},
   "source": [
    "Alguns países contam com acordos de defesa firmados com outras nações ou organizações internacionais para garantir sua segurança, enquanto outros podem apresentar forças armadas muito pequenas devido a fatores como a dimensão populacional reduzida, recursos limitados ou outras circunstâncias específicas. Diante disso, os valores NaN na coluna de tamanho das forças armadas será preenchido com 0."
   ]
  },
  {
   "cell_type": "code",
   "execution_count": 15,
   "metadata": {},
   "outputs": [],
   "source": [
    "# Preencher os valores NaN com 0\n",
    "df['Armed Forces size'].fillna(0, inplace=True)"
   ]
  },
  {
   "cell_type": "code",
   "execution_count": 16,
   "metadata": {},
   "outputs": [
    {
     "name": "stdout",
     "output_type": "stream",
     "text": [
      "0\n"
     ]
    }
   ],
   "source": [
    "print(df['Armed Forces size'].isna().sum())"
   ]
  },
  {
   "cell_type": "code",
   "execution_count": 17,
   "metadata": {},
   "outputs": [],
   "source": [
    "# Classificar os países com base no tamanho de suas Forças Armadas\n",
    "sorted_countries_armed = df.sort_values(by='Armed Forces size', ascending=False)"
   ]
  },
  {
   "cell_type": "code",
   "execution_count": 18,
   "metadata": {},
   "outputs": [
    {
     "name": "stdout",
     "output_type": "stream",
     "text": [
      "           Country  Armed Forces size\n",
      "77           India          3031000.0\n",
      "36           China          2695000.0\n",
      "127    North Korea          1469000.0\n",
      "143         Russia          1454000.0\n",
      "186  United States          1359000.0\n",
      "131       Pakistan           936000.0\n",
      "51           Egypt           836000.0\n",
      "23          Brazil           730000.0\n",
      "78       Indonesia           676000.0\n",
      "162    South Korea           634000.0\n"
     ]
    }
   ],
   "source": [
    "# Selecionar os 10 países com os maiores tamanhos de Forças Armadas\n",
    "top_10_armed_force_countries = sorted_countries_armed.head(10)\n",
    "\n",
    "# Exibir os resultados\n",
    "print(top_10_armed_force_countries[['Country', 'Armed Forces size']])"
   ]
  },
  {
   "cell_type": "code",
   "execution_count": 19,
   "metadata": {},
   "outputs": [
    {
     "data": {
      "image/png": "[encoded data removed]",
      "text/plain": [
       "<Figure size 1000x600 with 1 Axes>"
      ]
     },
     "metadata": {},
     "output_type": "display_data"
    }
   ],
   "source": [
    "# Plotar o gráfico de barras\n",
    "plt.figure(figsize=(10, 6))\n",
    "sns.barplot(x='Armed Forces size', y='Country', data=top_10_armed_force_countries, palette='viridis')\n",
    "plt.xlabel('Tamanho das Forças Armadas')\n",
    "plt.ylabel('País')\n",
    "plt.title('Top 10 Países com Maiores Tamanhos de Forças Armadas')\n",
    "\n",
    "# Ajustar o eixo x para exibir valores mais legíveis\n",
    "plt.ticklabel_format(style='plain', axis='x')\n",
    "\n",
    "plt.show()"
   ]
  },
  {
   "cell_type": "code",
   "execution_count": 20,
   "metadata": {},
   "outputs": [
    {
     "name": "stdout",
     "output_type": "stream",
     "text": [
      "Média das forças armadas:  1382000.0\n",
      "Soma total das forças armadas:  13820000.0\n",
      "Variância das forças armadas 715169777777.7778\n"
     ]
    }
   ],
   "source": [
    "# Calcular média, soma e variância\n",
    "mean_armed_forces = top_10_armed_force_countries['Armed Forces size'].mean()\n",
    "total_armed_forces = top_10_armed_force_countries['Armed Forces size'].sum()\n",
    "variance_armed_forces = top_10_armed_force_countries['Armed Forces size'].var()\n",
    "\n",
    "print('Média das forças armadas: ', mean_armed_forces)\n",
    "print('Soma total das forças armadas: ', total_armed_forces)\n",
    "print('Variância das forças armadas', variance_armed_forces)"
   ]
  },
  {
   "cell_type": "code",
   "execution_count": 21,
   "metadata": {},
   "outputs": [],
   "source": [
    "# Classificar os países com base no tamanho de sua População\n",
    "sorted_countries_population = df.sort_values(by='Population', ascending=False)"
   ]
  },
  {
   "cell_type": "code",
   "execution_count": 22,
   "metadata": {},
   "outputs": [
    {
     "name": "stdout",
     "output_type": "stream",
     "text": [
      "           Country    Population\n",
      "36           China  1.397715e+09\n",
      "77           India  1.366418e+09\n",
      "186  United States  3.282395e+08\n",
      "78       Indonesia  2.702039e+08\n",
      "131       Pakistan  2.165653e+08\n",
      "23          Brazil  2.125594e+08\n",
      "126        Nigeria  2.009636e+08\n",
      "13      Bangladesh  1.673108e+08\n",
      "143         Russia  1.443735e+08\n",
      "85           Japan  1.262266e+08\n"
     ]
    }
   ],
   "source": [
    "# Selecionar os 10 países com as maiores população\n",
    "top_10_population = sorted_countries_population.head(10)\n",
    "\n",
    "# Exibir os resultados\n",
    "print(top_10_population[['Country', 'Population']])"
   ]
  },
  {
   "cell_type": "code",
   "execution_count": 23,
   "metadata": {},
   "outputs": [
    {
     "data": {
      "image/png": "[encoded data removed]",
      "text/plain": [
       "<Figure size 1000x600 with 1 Axes>"
      ]
     },
     "metadata": {},
     "output_type": "display_data"
    }
   ],
   "source": [
    "# Plotar o gráfico de barras\n",
    "plt.figure(figsize=(10, 6))\n",
    "sns.barplot(x='Population', y='Country', data=top_10_population, palette='viridis')\n",
    "plt.xlabel('Tamanho da População')\n",
    "plt.ylabel('País')\n",
    "plt.title('Top 10 Países com mais pessoas')\n",
    "\n",
    "# Ajustar o eixo x para exibir valores mais legíveis\n",
    "plt.ticklabel_format(style='plain', axis='x')\n",
    "\n",
    "plt.show()"
   ]
  },
  {
   "cell_type": "code",
   "execution_count": 24,
   "metadata": {},
   "outputs": [
    {
     "data": {
      "application/vnd.plotly.v1+json": {
       "config": {
        "plotlyServerURL": "https://plot.ly"
       },
       "data": [
        {
         "customdata": [
          [
           "Afghanistan"
          ],
          [
           "Albania"
          ],
          [
           "Algeria"
          ],
          [
           "Andorra"
          ],
          [
           "Angola"
          ],
          [
           "Antigua and Barbuda"
          ],
          [
           "Argentina"
          ],
          [
           "Armenia"
          ],
          [
           "Australia"
          ],
          [
           "Austria"
          ],
          [
           "Azerbaijan"
          ],
          [
           "The Bahamas"
          ],
          [
           "Bahrain"
          ],
          [
           "Bangladesh"
          ],
          [
           "Barbados"
          ],
          [
           "Belarus"
          ],
          [
           "Belgium"
          ],
          [
           "Belize"
          ],
          [
           "Benin"
          ],
          [
           "Bhutan"
          ],
          [
           "Bolivia"
          ],
          [
           "Bosnia and Herzegovina"
          ],
          [
           "Botswana"
          ],
          [
           "Brazil"
          ],
          [
           "Brunei"
          ],
          [
           "Bulgaria"
          ],
          [
           "Burkina Faso"
          ],
          [
           "Burundi"
          ],
          [
           "Ivory Coast"
          ],
          [
           "Cape Verde"
          ],
          [
           "Cambodia"
          ],
          [
           "Cameroon"
          ],
          [
           "Canada"
          ],
          [
           "Central African Republic"
          ],
          [
           "Chad"
          ],
          [
           "Chile"
          ],
          [
           "China"
          ],
          [
           "Colombia"
          ],
          [
           "Comoros"
          ],
          [
           "Republic of the Congo"
          ],
          [
           "Costa Rica"
          ],
          [
           "Croatia"
          ],
          [
           "Cuba"
          ],
          [
           "Cyprus"
          ],
          [
           "Czech Republic"
          ],
          [
           "Democratic Republic of the Congo"
          ],
          [
           "Denmark"
          ],
          [
           "Djibouti"
          ],
          [
           "Dominica"
          ],
          [
           "Dominican Republic"
          ],
          [
           "Ecuador"
          ],
          [
           "Egypt"
          ],
          [
           "El Salvador"
          ],
          [
           "Equatorial Guinea"
          ],
          [
           "Eritrea"
          ],
          [
           "Estonia"
          ],
          [
           "Ethiopia"
          ],
          [
           "Fiji"
          ],
          [
           "Finland"
          ],
          [
           "France"
          ],
          [
           "Gabon"
          ],
          [
           "The Gambia"
          ],
          [
           "Georgia"
          ],
          [
           "Germany"
          ],
          [
           "Ghana"
          ],
          [
           "Greece"
          ],
          [
           "Grenada"
          ],
          [
           "Guatemala"
          ],
          [
           "Guinea"
          ],
          [
           "Guinea-Bissau"
          ],
          [
           "Guyana"
          ],
          [
           "Haiti"
          ],
          [
           "Honduras"
          ],
          [
           "Hungary"
          ],
          [
           "Iceland"
          ],
          [
           "India"
          ],
          [
           "Indonesia"
          ],
          [
           "Iran"
          ],
          [
           "Iraq"
          ],
          [
           "Republic of Ireland"
          ],
          [
           "Israel"
          ],
          [
           "Italy"
          ],
          [
           "Jamaica"
          ],
          [
           "Japan"
          ],
          [
           "Jordan"
          ],
          [
           "Kazakhstan"
          ],
          [
           "Kenya"
          ],
          [
           "Kiribati"
          ],
          [
           "Kuwait"
          ],
          [
           "Kyrgyzstan"
          ],
          [
           "Laos"
          ],
          [
           "Latvia"
          ],
          [
           "Lebanon"
          ],
          [
           "Lesotho"
          ],
          [
           "Liberia"
          ],
          [
           "Libya"
          ],
          [
           "Liechtenstein"
          ],
          [
           "Lithuania"
          ],
          [
           "Luxembourg"
          ],
          [
           "Madagascar"
          ],
          [
           "Malawi"
          ],
          [
           "Malaysia"
          ],
          [
           "Maldives"
          ],
          [
           "Mali"
          ],
          [
           "Malta"
          ],
          [
           "Marshall Islands"
          ],
          [
           "Mauritania"
          ],
          [
           "Mauritius"
          ],
          [
           "Mexico"
          ],
          [
           "Federated States of Micronesia"
          ],
          [
           "Moldova"
          ],
          [
           "Mongolia"
          ],
          [
           "Montenegro"
          ],
          [
           "Morocco"
          ],
          [
           "Mozambique"
          ],
          [
           "Myanmar"
          ],
          [
           "Namibia"
          ],
          [
           "Nepal"
          ],
          [
           "Netherlands"
          ],
          [
           "New Zealand"
          ],
          [
           "Nicaragua"
          ],
          [
           "Niger"
          ],
          [
           "Nigeria"
          ],
          [
           "North Korea"
          ],
          [
           "Norway"
          ],
          [
           "Oman"
          ],
          [
           "Pakistan"
          ],
          [
           "Palau"
          ],
          [
           "Panama"
          ],
          [
           "Papua New Guinea"
          ],
          [
           "Paraguay"
          ],
          [
           "Peru"
          ],
          [
           "Philippines"
          ],
          [
           "Poland"
          ],
          [
           "Portugal"
          ],
          [
           "Qatar"
          ],
          [
           "Romania"
          ],
          [
           "Russia"
          ],
          [
           "Rwanda"
          ],
          [
           "Saint Kitts and Nevis"
          ],
          [
           "Saint Lucia"
          ],
          [
           "Saint Vincent and the Grenadines"
          ],
          [
           "Samoa"
          ],
          [
           "San Marino"
          ],
          [
           "São Tomé e Príncipe"
          ],
          [
           "Saudi Arabia"
          ],
          [
           "Senegal"
          ],
          [
           "Serbia"
          ],
          [
           "Seychelles"
          ],
          [
           "Sierra Leone"
          ],
          [
           "Singapore"
          ],
          [
           "Slovakia"
          ],
          [
           "Slovenia"
          ],
          [
           "Solomon Islands"
          ],
          [
           "Somalia"
          ],
          [
           "South Africa"
          ],
          [
           "South Korea"
          ],
          [
           "Spain"
          ],
          [
           "Sri Lanka"
          ],
          [
           "Sudan"
          ],
          [
           "Suriname"
          ],
          [
           "Sweden"
          ],
          [
           "Switzerland"
          ],
          [
           "Syria"
          ],
          [
           "Tajikistan"
          ],
          [
           "Tanzania"
          ],
          [
           "Thailand"
          ],
          [
           "East Timor"
          ],
          [
           "Togo"
          ],
          [
           "Tonga"
          ],
          [
           "Trinidad and Tobago"
          ],
          [
           "Tunisia"
          ],
          [
           "Turkey"
          ],
          [
           "Turkmenistan"
          ],
          [
           "Tuvalu"
          ],
          [
           "Uganda"
          ],
          [
           "Ukraine"
          ],
          [
           "United Arab Emirates"
          ],
          [
           "United Kingdom"
          ],
          [
           "United States"
          ],
          [
           "Uruguay"
          ],
          [
           "Uzbekistan"
          ],
          [
           "Vanuatu"
          ],
          [
           "Venezuela"
          ],
          [
           "Vietnam"
          ],
          [
           "Yemen"
          ],
          [
           "Zambia"
          ],
          [
           "Zimbabwe"
          ]
         ],
         "hovertemplate": "Population=%{x}<br>Armed Forces size=%{marker.color}<br>Country=%{customdata[0]}<extra></extra>",
         "legendgroup": "",
         "marker": {
          "color": [
           323000,
           9000,
           317000,
           0,
           117000,
           0,
           105000,
           49000,
           58000,
           21000,
           82000,
           1000,
           19000,
           221000,
           1000,
           155000,
           32000,
           2000,
           12000,
           6000,
           71000,
           11000,
           9000,
           730000,
           8000,
           31000,
           11000,
           31000,
           27000,
           1000,
           191000,
           24000,
           72000,
           8000,
           35000,
           122000,
           2695000,
           481000,
           0,
           12000,
           10000,
           18000,
           76000,
           16000,
           23000,
           134000,
           15000,
           13000,
           0,
           71000,
           41000,
           836000,
           42000,
           1000,
           202000,
           6000,
           138000,
           4000,
           25000,
           307000,
           7000,
           1000,
           26000,
           180000,
           16000,
           146000,
           0,
           43000,
           13000,
           4000,
           3000,
           0,
           23000,
           40000,
           0,
           3031000,
           676000,
           563000,
           209000,
           9000,
           178000,
           347000,
           4000,
           261000,
           116000,
           71000,
           29000,
           0,
           25000,
           21000,
           129000,
           6000,
           80000,
           2000,
           2000,
           0,
           0,
           34000,
           2000,
           22000,
           15000,
           136000,
           5000,
           18000,
           2000,
           0,
           21000,
           3000,
           336000,
           0,
           7000,
           18000,
           12000,
           246000,
           11000,
           513000,
           16000,
           112000,
           41000,
           9000,
           12000,
           10000,
           215000,
           1469000,
           23000,
           47000,
           936000,
           0,
           26000,
           4000,
           27000,
           158000,
           153000,
           191000,
           52000,
           22000,
           126000,
           1454000,
           35000,
           0,
           0,
           0,
           0,
           0,
           1000,
           252000,
           19000,
           32000,
           0,
           9000,
           81000,
           16000,
           7000,
           0,
           20000,
           80000,
           634000,
           196000,
           317000,
           124000,
           2000,
           30000,
           21000,
           239000,
           17000,
           28000,
           455000,
           2000,
           10000,
           0,
           4000,
           48000,
           512000,
           42000,
           0,
           46000,
           297000,
           63000,
           148000,
           1359000,
           22000,
           68000,
           0,
           343000,
           522000,
           40000,
           16000,
           51000
          ],
          "coloraxis": "coloraxis",
          "symbol": "circle"
         },
         "mode": "markers",
         "name": "",
         "orientation": "v",
         "showlegend": false,
         "type": "scatter",
         "x": [
          38041754,
          2854191,
          43053054,
          77142,
          31825295,
          97118,
          44938712,
          2957731,
          25766605,
          8877067,
          10023318,
          389482,
          1501635,
          167310838,
          287025,
          9466856,
          11484055,
          390353,
          11801151,
          727145,
          11513100,
          3301000,
          2346179,
          212559417,
          433285,
          6975761,
          20321378,
          11530580,
          25716544,
          483628,
          16486542,
          25876380,
          36991981,
          4745185,
          15946876,
          18952038,
          1397715000,
          50339443,
          850886,
          5380508,
          5047561,
          4067500,
          11333483,
          1198575,
          10669709,
          86790567,
          5818553,
          973560,
          71808,
          10738958,
          17373662,
          100388073,
          6453553,
          1355986,
          6333135,
          1331824,
          112078730,
          889953,
          5520314,
          67059887,
          2172579,
          2347706,
          3720382,
          83132799,
          30792608,
          10716322,
          112003,
          16604026,
          12771246,
          1920922,
          782766,
          11263077,
          9746117,
          9769949,
          361313,
          1366417754,
          270203917,
          82913906,
          39309783,
          5007069,
          9053300,
          60297396,
          2948279,
          126226568,
          10101694,
          18513930,
          52573973,
          117606,
          4207083,
          6456900,
          7169455,
          1912789,
          6855713,
          2125268,
          4937374,
          6777452,
          38019,
          2786844,
          645397,
          26969307,
          18628747,
          32447385,
          530953,
          19658031,
          502653,
          58791,
          4525696,
          1265711,
          126014024,
          113815,
          2657637,
          3225167,
          622137,
          36910560,
          30366036,
          54045420,
          2494530,
          28608710,
          17332850,
          4841000,
          6545502,
          23310715,
          200963599,
          25666161,
          5347896,
          5266535,
          216565318,
          18233,
          4246439,
          8776109,
          7044636,
          32510453,
          108116615,
          37970874,
          10269417,
          2832067,
          19356544,
          144373535,
          12626950,
          52823,
          182790,
          100455,
          202506,
          33860,
          215056,
          34268528,
          16296364,
          6944975,
          97625,
          7813215,
          5703569,
          5454073,
          2087946,
          669823,
          15442905,
          58558270,
          51709098,
          47076781,
          21803000,
          42813238,
          581372,
          10285453,
          8574832,
          17070135,
          9321018,
          58005463,
          69625582,
          3500000,
          8082366,
          100209,
          1394973,
          11694719,
          83429615,
          5942089,
          11646,
          44269594,
          44385155,
          9770529,
          66834405,
          328239523,
          3461734,
          33580650,
          299882,
          28515829,
          96462106,
          29161922,
          17861030,
          14645468
         ],
         "xaxis": "x",
         "y": [
          323000,
          9000,
          317000,
          0,
          117000,
          0,
          105000,
          49000,
          58000,
          21000,
          82000,
          1000,
          19000,
          221000,
          1000,
          155000,
          32000,
          2000,
          12000,
          6000,
          71000,
          11000,
          9000,
          730000,
          8000,
          31000,
          11000,
          31000,
          27000,
          1000,
          191000,
          24000,
          72000,
          8000,
          35000,
          122000,
          2695000,
          481000,
          0,
          12000,
          10000,
          18000,
          76000,
          16000,
          23000,
          134000,
          15000,
          13000,
          0,
          71000,
          41000,
          836000,
          42000,
          1000,
          202000,
          6000,
          138000,
          4000,
          25000,
          307000,
          7000,
          1000,
          26000,
          180000,
          16000,
          146000,
          0,
          43000,
          13000,
          4000,
          3000,
          0,
          23000,
          40000,
          0,
          3031000,
          676000,
          563000,
          209000,
          9000,
          178000,
          347000,
          4000,
          261000,
          116000,
          71000,
          29000,
          0,
          25000,
          21000,
          129000,
          6000,
          80000,
          2000,
          2000,
          0,
          0,
          34000,
          2000,
          22000,
          15000,
          136000,
          5000,
          18000,
          2000,
          0,
          21000,
          3000,
          336000,
          0,
          7000,
          18000,
          12000,
          246000,
          11000,
          513000,
          16000,
          112000,
          41000,
          9000,
          12000,
          10000,
          215000,
          1469000,
          23000,
          47000,
          936000,
          0,
          26000,
          4000,
          27000,
          158000,
          153000,
          191000,
          52000,
          22000,
          126000,
          1454000,
          35000,
          0,
          0,
          0,
          0,
          0,
          1000,
          252000,
          19000,
          32000,
          0,
          9000,
          81000,
          16000,
          7000,
          0,
          20000,
          80000,
          634000,
          196000,
          317000,
          124000,
          2000,
          30000,
          21000,
          239000,
          17000,
          28000,
          455000,
          2000,
          10000,
          0,
          4000,
          48000,
          512000,
          42000,
          0,
          46000,
          297000,
          63000,
          148000,
          1359000,
          22000,
          68000,
          0,
          343000,
          522000,
          40000,
          16000,
          51000
         ],
         "yaxis": "y"
        },
        {
         "hovertemplate": "<b>OLS trendline</b><br>Armed Forces size = 199586 * log10(Population) + -1.21698e+06<br>R<sup>2</sup>=0.263273<br><br>Population=%{x}<br>Armed Forces size=%{y} <b>(trend)</b><extra></extra>",
         "legendgroup": "",
         "marker": {
          "symbol": "circle"
         },
         "mode": "lines",
         "name": "",
         "showlegend": false,
         "type": "scatter",
         "x": [
          11646,
          18233,
          33860,
          38019,
          52823,
          58791,
          71808,
          77142,
          97118,
          97625,
          100209,
          100455,
          112003,
          113815,
          117606,
          182790,
          202506,
          215056,
          287025,
          299882,
          361313,
          389482,
          390353,
          433285,
          483628,
          502653,
          530953,
          581372,
          622137,
          645397,
          669823,
          727145,
          782766,
          850886,
          889953,
          973560,
          1198575,
          1265711,
          1331824,
          1355986,
          1394973,
          1501635,
          1912789,
          1920922,
          2087946,
          2125268,
          2172579,
          2346179,
          2347706,
          2494530,
          2657637,
          2786844,
          2832067,
          2854191,
          2948279,
          2957731,
          3225167,
          3301000,
          3461734,
          3500000,
          3720382,
          4067500,
          4207083,
          4246439,
          4525696,
          4745185,
          4841000,
          4937374,
          5007069,
          5047561,
          5266535,
          5347896,
          5380508,
          5454073,
          5520314,
          5703569,
          5818553,
          5942089,
          6333135,
          6453553,
          6456900,
          6545502,
          6777452,
          6855713,
          6944975,
          6975761,
          7044636,
          7169455,
          7813215,
          8082366,
          8574832,
          8776109,
          8877067,
          9053300,
          9321018,
          9466856,
          9746117,
          9769949,
          9770529,
          10023318,
          10101694,
          10269417,
          10285453,
          10669709,
          10716322,
          10738958,
          11263077,
          11333483,
          11484055,
          11513100,
          11530580,
          11694719,
          11801151,
          12626950,
          12771246,
          14645468,
          15442905,
          15946876,
          16296364,
          16486542,
          16604026,
          17070135,
          17332850,
          17373662,
          17861030,
          18513930,
          18628747,
          18952038,
          19356544,
          19658031,
          20321378,
          21803000,
          23310715,
          25666161,
          25716544,
          25766605,
          25876380,
          26969307,
          28515829,
          28608710,
          29161922,
          30366036,
          30792608,
          31825295,
          32447385,
          32510453,
          33580650,
          34268528,
          36910560,
          36991981,
          37970874,
          38041754,
          39309783,
          42813238,
          43053054,
          44269594,
          44385155,
          44938712,
          47076781,
          50339443,
          51709098,
          52573973,
          54045420,
          58005463,
          58558270,
          60297396,
          66834405,
          67059887,
          69625582,
          82913906,
          83132799,
          83429615,
          86790567,
          96462106,
          100388073,
          108116615,
          112078730,
          126014024,
          126226568,
          144373535,
          167310838,
          200963599,
          212559417,
          216565318,
          270203917,
          328239523,
          1366417754,
          1397715000
         ],
         "xaxis": "x",
         "y": [
          -405428.85613188485,
          -366573.1099441536,
          -312918.5371162455,
          -302876.6004500168,
          -274371.1992601848,
          -265092.87034919113,
          -247756.40102381608,
          -241545.65923322213,
          -221585.2571724013,
          -221133.92914454697,
          -218869.48560820287,
          -218656.96009214944,
          -209224.8872503239,
          -207833.800616313,
          -204993.69107658055,
          -166768.3170138786,
          -157889.62435167585,
          -152677.69166595908,
          -127655.91339787096,
          -123857.65016188892,
          -107704.48749360885,
          -101197.21215592069,
          -101003.58742265613,
          -91959.1042524348,
          -82431.29282359756,
          -79086.85525937192,
          -74339.13422341272,
          -66475.8233311486,
          -60601.61296664667,
          -57420.02402460296,
          -54200.07418132736,
          -47082.63084832253,
          -40693.68477010797,
          -33460.78901143558,
          -29569.71405359404,
          -21786.713097312255,
          -3763.5649549376685,
          960.5129748615436,
          5373.823474817444,
          6932.267590185162,
          9389.29498496512,
          15775.775985518238,
          36752.840649258345,
          37120.61147317989,
          44347.541072461056,
          45883.2466792122,
          47791.66659403406,
          54454.97100795666,
          54511.367465728195,
          59769.47505746479,
          65259.483826970914,
          69374.35579589428,
          70769.63722335803,
          71444.14117802819,
          74255.424529362,
          74532.86839421117,
          82036.02600573096,
          84050.51464098203,
          88171.60810779547,
          89124.50351887802,
          94417.43269958557,
          102149.4146798125,
          105074.05747611937,
          105881.14683666197,
          111401.80372199137,
          115506.85073312907,
          117239.64650971629,
          118948.29419780895,
          120163.28639887972,
          120861.43954955414,
          124542.4908144211,
          125871.33262796141,
          126398.3062438101,
          127575.3998820344,
          128621.7983694484,
          131452.51579001476,
          133182.58939621667,
          135003.64706350514,
          140528.1170610527,
          142160.7607007688,
          142205.70343193947,
          143387.03518677712,
          146405.47800182714,
          147400.65124861128,
          148521.93919050205,
          148905.32584883575,
          149756.9540101213,
          151279.31620586896,
          158732.5967290355,
          161668.260555682,
          166795.05738489144,
          168806.1673569437,
          169797.6105654079,
          171501.5621894095,
          174027.61426018388,
          175373.31039083726,
          177893.2580661117,
          178104.95455146907,
          178110.10017525568,
          180324.19795128913,
          180999.33876458998,
          182426.69685239182,
          182561.94353494165,
          185741.1851806317,
          186119.03808997804,
          186301.93689990696,
          190432.35904637305,
          190972.50853274763,
          192116.5109985054,
          192335.45987411146,
          192466.9626425358,
          193692.1511655792,
          194477.4390243783,
          200340.10815054807,
          201325.02896270854,
          213194.42808234505,
          217790.05341075826,
          220573.60837345384,
          222452.73402534518,
          223458.42121727858,
          224073.9119912784,
          226473.64907576772,
          227797.5101293421,
          228001.36558031105,
          230399.42229685653,
          233511.39665458258,
          234047.29152105236,
          235538.65567553788,
          237369.24216335965,
          238708.90519990912,
          241585.57145047025,
          247685.55020747427,
          253481.40708639286,
          261825.17970317462,
          261995.1654152933,
          262163.73521642876,
          262532.2356328098,
          266118.05788187706,
          270951.28464324214,
          271233.15524124564,
          272893.2885706313,
          276400.4122621801,
          277609.5805816385,
          280468.8480850423,
          282146.82349902927,
          282315.1385114589,
          285122.53602934396,
          286880.16389653785,
          293317.8595823501,
          293508.8547839564,
          295772.76402143855,
          295934.416849514,
          298776.54964367417,
          306176.6996189896,
          306660.87398774526,
          309076.18363270303,
          309302.1556968023,
          310376.50525717274,
          314405.38363751094,
          320213.6761056911,
          322540.56521568005,
          323978.35273367027,
          326371.01396704256,
          332500.3121583818,
          333322.4763585222,
          335859.28305381886,
          344781.0996330946,
          345073.0408712479,
          348327.5006988656,
          363467.83177649253,
          363696.3638094093,
          364005.29089064617,
          367428.6536833192,
          376586.5180563361,
          380044.4277115811,
          386473.16949066473,
          389592.85661309445,
          399750.94119937066,
          399897.0173094128,
          411540.2515676983,
          424321.0619603344,
          440206.80606512656,
          445069.3192832975,
          446687.6769125692,
          465868.4740148317,
          482733.37037162087,
          606355.7051982658,
          608318.6631932938
         ],
         "yaxis": "y"
        }
       ],
       "layout": {
        "coloraxis": {
         "colorbar": {
          "title": {
           "text": "Armed Forces size"
          }
         },
         "colorscale": [
          [
           0,
           "rgb(158,1,66)"
          ],
          [
           0.1,
           "rgb(213,62,79)"
          ],
          [
           0.2,
           "rgb(244,109,67)"
          ],
          [
           0.3,
           "rgb(253,174,97)"
          ],
          [
           0.4,
           "rgb(254,224,139)"
          ],
          [
           0.5,
           "rgb(255,255,191)"
          ],
          [
           0.6,
           "rgb(230,245,152)"
          ],
          [
           0.7,
           "rgb(171,221,164)"
          ],
          [
           0.8,
           "rgb(102,194,165)"
          ],
          [
           0.9,
           "rgb(50,136,189)"
          ],
          [
           1,
           "rgb(94,79,162)"
          ]
         ]
        },
        "legend": {
         "tracegroupgap": 0
        },
        "margin": {
         "t": 60
        },
        "template": {
         "data": {
          "bar": [
           {
            "error_x": {
             "color": "#2a3f5f"
            },
            "error_y": {
             "color": "#2a3f5f"
            },
            "marker": {
             "line": {
              "color": "#E5ECF6",
              "width": 0.5
             },
             "pattern": {
              "fillmode": "overlay",
              "size": 10,
              "solidity": 0.2
             }
            },
            "type": "bar"
           }
          ],
          "barpolar": [
           {
            "marker": {
             "line": {
              "color": "#E5ECF6",
              "width": 0.5
             },
             "pattern": {
              "fillmode": "overlay",
              "size": 10,
              "solidity": 0.2
             }
            },
            "type": "barpolar"
           }
          ],
          "carpet": [
           {
            "aaxis": {
             "endlinecolor": "#2a3f5f",
             "gridcolor": "white",
             "linecolor": "white",
             "minorgridcolor": "white",
             "startlinecolor": "#2a3f5f"
            },
            "baxis": {
             "endlinecolor": "#2a3f5f",
             "gridcolor": "white",
             "linecolor": "white",
             "minorgridcolor": "white",
             "startlinecolor": "#2a3f5f"
            },
            "type": "carpet"
           }
          ],
          "choropleth": [
           {
            "colorbar": {
             "outlinewidth": 0,
             "ticks": ""
            },
            "type": "choropleth"
           }
          ],
          "contour": [
           {
            "colorbar": {
             "outlinewidth": 0,
             "ticks": ""
            },
            "colorscale": [
             [
              0,
              "#0d0887"
             ],
             [
              0.1111111111111111,
              "#46039f"
             ],
             [
              0.2222222222222222,
              "#7201a8"
             ],
             [
              0.3333333333333333,
              "#9c179e"
             ],
             [
              0.4444444444444444,
              "#bd3786"
             ],
             [
              0.5555555555555556,
              "#d8576b"
             ],
             [
              0.6666666666666666,
              "#ed7953"
             ],
             [
              0.7777777777777778,
              "#fb9f3a"
             ],
             [
              0.8888888888888888,
              "#fdca26"
             ],
             [
              1,
              "#f0f921"
             ]
            ],
            "type": "contour"
           }
          ],
          "contourcarpet": [
           {
            "colorbar": {
             "outlinewidth": 0,
             "ticks": ""
            },
            "type": "contourcarpet"
           }
          ],
          "heatmap": [
           {
            "colorbar": {
             "outlinewidth": 0,
             "ticks": ""
            },
            "colorscale": [
             [
              0,
              "#0d0887"
             ],
             [
              0.1111111111111111,
              "#46039f"
             ],
             [
              0.2222222222222222,
              "#7201a8"
             ],
             [
              0.3333333333333333,
              "#9c179e"
             ],
             [
              0.4444444444444444,
              "#bd3786"
             ],
             [
              0.5555555555555556,
              "#d8576b"
             ],
             [
              0.6666666666666666,
              "#ed7953"
             ],
             [
              0.7777777777777778,
              "#fb9f3a"
             ],
             [
              0.8888888888888888,
              "#fdca26"
             ],
             [
              1,
              "#f0f921"
             ]
            ],
            "type": "heatmap"
           }
          ],
          "heatmapgl": [
           {
            "colorbar": {
             "outlinewidth": 0,
             "ticks": ""
            },
            "colorscale": [
             [
              0,
              "#0d0887"
             ],
             [
              0.1111111111111111,
              "#46039f"
             ],
             [
              0.2222222222222222,
              "#7201a8"
             ],
             [
              0.3333333333333333,
              "#9c179e"
             ],
             [
              0.4444444444444444,
              "#bd3786"
             ],
             [
              0.5555555555555556,
              "#d8576b"
             ],
             [
              0.6666666666666666,
              "#ed7953"
             ],
             [
              0.7777777777777778,
              "#fb9f3a"
             ],
             [
              0.8888888888888888,
              "#fdca26"
             ],
             [
              1,
              "#f0f921"
             ]
            ],
            "type": "heatmapgl"
           }
          ],
          "histogram": [
           {
            "marker": {
             "pattern": {
              "fillmode": "overlay",
              "size": 10,
              "solidity": 0.2
             }
            },
            "type": "histogram"
           }
          ],
          "histogram2d": [
           {
            "colorbar": {
             "outlinewidth": 0,
             "ticks": ""
            },
            "colorscale": [
             [
              0,
              "#0d0887"
             ],
             [
              0.1111111111111111,
              "#46039f"
             ],
             [
              0.2222222222222222,
              "#7201a8"
             ],
             [
              0.3333333333333333,
              "#9c179e"
             ],
             [
              0.4444444444444444,
              "#bd3786"
             ],
             [
              0.5555555555555556,
              "#d8576b"
             ],
             [
              0.6666666666666666,
              "#ed7953"
             ],
             [
              0.7777777777777778,
              "#fb9f3a"
             ],
             [
              0.8888888888888888,
              "#fdca26"
             ],
             [
              1,
              "#f0f921"
             ]
            ],
            "type": "histogram2d"
           }
          ],
          "histogram2dcontour": [
           {
            "colorbar": {
             "outlinewidth": 0,
             "ticks": ""
            },
            "colorscale": [
             [
              0,
              "#0d0887"
             ],
             [
              0.1111111111111111,
              "#46039f"
             ],
             [
              0.2222222222222222,
              "#7201a8"
             ],
             [
              0.3333333333333333,
              "#9c179e"
             ],
             [
              0.4444444444444444,
              "#bd3786"
             ],
             [
              0.5555555555555556,
              "#d8576b"
             ],
             [
              0.6666666666666666,
              "#ed7953"
             ],
             [
              0.7777777777777778,
              "#fb9f3a"
             ],
             [
              0.8888888888888888,
              "#fdca26"
             ],
             [
              1,
              "#f0f921"
             ]
            ],
            "type": "histogram2dcontour"
           }
          ],
          "mesh3d": [
           {
            "colorbar": {
             "outlinewidth": 0,
             "ticks": ""
            },
            "type": "mesh3d"
           }
          ],
          "parcoords": [
           {
            "line": {
             "colorbar": {
              "outlinewidth": 0,
              "ticks": ""
             }
            },
            "type": "parcoords"
           }
          ],
          "pie": [
           {
            "automargin": true,
            "type": "pie"
           }
          ],
          "scatter": [
           {
            "fillpattern": {
             "fillmode": "overlay",
             "size": 10,
             "solidity": 0.2
            },
            "type": "scatter"
           }
          ],
          "scatter3d": [
           {
            "line": {
             "colorbar": {
              "outlinewidth": 0,
              "ticks": ""
             }
            },
            "marker": {
             "colorbar": {
              "outlinewidth": 0,
              "ticks": ""
             }
            },
            "type": "scatter3d"
           }
          ],
          "scattercarpet": [
           {
            "marker": {
             "colorbar": {
              "outlinewidth": 0,
              "ticks": ""
             }
            },
            "type": "scattercarpet"
           }
          ],
          "scattergeo": [
           {
            "marker": {
             "colorbar": {
              "outlinewidth": 0,
              "ticks": ""
             }
            },
            "type": "scattergeo"
           }
          ],
          "scattergl": [
           {
            "marker": {
             "colorbar": {
              "outlinewidth": 0,
              "ticks": ""
             }
            },
            "type": "scattergl"
           }
          ],
          "scattermapbox": [
           {
            "marker": {
             "colorbar": {
              "outlinewidth": 0,
              "ticks": ""
             }
            },
            "type": "scattermapbox"
           }
          ],
          "scatterpolar": [
           {
            "marker": {
             "colorbar": {
              "outlinewidth": 0,
              "ticks": ""
             }
            },
            "type": "scatterpolar"
           }
          ],
          "scatterpolargl": [
           {
            "marker": {
             "colorbar": {
              "outlinewidth": 0,
              "ticks": ""
             }
            },
            "type": "scatterpolargl"
           }
          ],
          "scatterternary": [
           {
            "marker": {
             "colorbar": {
              "outlinewidth": 0,
              "ticks": ""
             }
            },
            "type": "scatterternary"
           }
          ],
          "surface": [
           {
            "colorbar": {
             "outlinewidth": 0,
             "ticks": ""
            },
            "colorscale": [
             [
              0,
              "#0d0887"
             ],
             [
              0.1111111111111111,
              "#46039f"
             ],
             [
              0.2222222222222222,
              "#7201a8"
             ],
             [
              0.3333333333333333,
              "#9c179e"
             ],
             [
              0.4444444444444444,
              "#bd3786"
             ],
             [
              0.5555555555555556,
              "#d8576b"
             ],
             [
              0.6666666666666666,
              "#ed7953"
             ],
             [
              0.7777777777777778,
              "#fb9f3a"
             ],
             [
              0.8888888888888888,
              "#fdca26"
             ],
             [
              1,
              "#f0f921"
             ]
            ],
            "type": "surface"
           }
          ],
          "table": [
           {
            "cells": {
             "fill": {
              "color": "#EBF0F8"
             },
             "line": {
              "color": "white"
             }
            },
            "header": {
             "fill": {
              "color": "#C8D4E3"
             },
             "line": {
              "color": "white"
             }
            },
            "type": "table"
           }
          ]
         },
         "layout": {
          "annotationdefaults": {
           "arrowcolor": "#2a3f5f",
           "arrowhead": 0,
           "arrowwidth": 1
          },
          "autotypenumbers": "strict",
          "coloraxis": {
           "colorbar": {
            "outlinewidth": 0,
            "ticks": ""
           }
          },
          "colorscale": {
           "diverging": [
            [
             0,
             "#8e0152"
            ],
            [
             0.1,
             "#c51b7d"
            ],
            [
             0.2,
             "#de77ae"
            ],
            [
             0.3,
             "#f1b6da"
            ],
            [
             0.4,
             "#fde0ef"
            ],
            [
             0.5,
             "#f7f7f7"
            ],
            [
             0.6,
             "#e6f5d0"
            ],
            [
             0.7,
             "#b8e186"
            ],
            [
             0.8,
             "#7fbc41"
            ],
            [
             0.9,
             "#4d9221"
            ],
            [
             1,
             "#276419"
            ]
           ],
           "sequential": [
            [
             0,
             "#0d0887"
            ],
            [
             0.1111111111111111,
             "#46039f"
            ],
            [
             0.2222222222222222,
             "#7201a8"
            ],
            [
             0.3333333333333333,
             "#9c179e"
            ],
            [
             0.4444444444444444,
             "#bd3786"
            ],
            [
             0.5555555555555556,
             "#d8576b"
            ],
            [
             0.6666666666666666,
             "#ed7953"
            ],
            [
             0.7777777777777778,
             "#fb9f3a"
            ],
            [
             0.8888888888888888,
             "#fdca26"
            ],
            [
             1,
             "#f0f921"
            ]
           ],
           "sequentialminus": [
            [
             0,
             "#0d0887"
            ],
            [
             0.1111111111111111,
             "#46039f"
            ],
            [
             0.2222222222222222,
             "#7201a8"
            ],
            [
             0.3333333333333333,
             "#9c179e"
            ],
            [
             0.4444444444444444,
             "#bd3786"
            ],
            [
             0.5555555555555556,
             "#d8576b"
            ],
            [
             0.6666666666666666,
             "#ed7953"
            ],
            [
             0.7777777777777778,
             "#fb9f3a"
            ],
            [
             0.8888888888888888,
             "#fdca26"
            ],
            [
             1,
             "#f0f921"
            ]
           ]
          },
          "colorway": [
           "#636efa",
           "#EF553B",
           "#00cc96",
           "#ab63fa",
           "#FFA15A",
           "#19d3f3",
           "#FF6692",
           "#B6E880",
           "#FF97FF",
           "#FECB52"
          ],
          "font": {
           "color": "#2a3f5f"
          },
          "geo": {
           "bgcolor": "white",
           "lakecolor": "white",
           "landcolor": "#E5ECF6",
           "showlakes": true,
           "showland": true,
           "subunitcolor": "white"
          },
          "hoverlabel": {
           "align": "left"
          },
          "hovermode": "closest",
          "mapbox": {
           "style": "light"
          },
          "paper_bgcolor": "white",
          "plot_bgcolor": "#E5ECF6",
          "polar": {
           "angularaxis": {
            "gridcolor": "white",
            "linecolor": "white",
            "ticks": ""
           },
           "bgcolor": "#E5ECF6",
           "radialaxis": {
            "gridcolor": "white",
            "linecolor": "white",
            "ticks": ""
           }
          },
          "scene": {
           "xaxis": {
            "backgroundcolor": "#E5ECF6",
            "gridcolor": "white",
            "gridwidth": 2,
            "linecolor": "white",
            "showbackground": true,
            "ticks": "",
            "zerolinecolor": "white"
           },
           "yaxis": {
            "backgroundcolor": "#E5ECF6",
            "gridcolor": "white",
            "gridwidth": 2,
            "linecolor": "white",
            "showbackground": true,
            "ticks": "",
            "zerolinecolor": "white"
           },
           "zaxis": {
            "backgroundcolor": "#E5ECF6",
            "gridcolor": "white",
            "gridwidth": 2,
            "linecolor": "white",
            "showbackground": true,
            "ticks": "",
            "zerolinecolor": "white"
           }
          },
          "shapedefaults": {
           "line": {
            "color": "#2a3f5f"
           }
          },
          "ternary": {
           "aaxis": {
            "gridcolor": "white",
            "linecolor": "white",
            "ticks": ""
           },
           "baxis": {
            "gridcolor": "white",
            "linecolor": "white",
            "ticks": ""
           },
           "bgcolor": "#E5ECF6",
           "caxis": {
            "gridcolor": "white",
            "linecolor": "white",
            "ticks": ""
           }
          },
          "title": {
           "x": 0.05
          },
          "xaxis": {
           "automargin": true,
           "gridcolor": "white",
           "linecolor": "white",
           "ticks": "",
           "title": {
            "standoff": 15
           },
           "zerolinecolor": "white",
           "zerolinewidth": 2
          },
          "yaxis": {
           "automargin": true,
           "gridcolor": "white",
           "linecolor": "white",
           "ticks": "",
           "title": {
            "standoff": 15
           },
           "zerolinecolor": "white",
           "zerolinewidth": 2
          }
         }
        },
        "xaxis": {
         "anchor": "y",
         "domain": [
          0,
          1
         ],
         "title": {
          "text": "Population"
         }
        },
        "yaxis": {
         "anchor": "x",
         "domain": [
          0,
          1
         ],
         "title": {
          "text": "Armed Forces size"
         }
        }
       }
      }
     },
     "metadata": {},
     "output_type": "display_data"
    }
   ],
   "source": [
    "plt = px.scatter(df, x=\"Population\", y=\"Armed Forces size\", color = \"Armed Forces size\",\n",
    "                 trendline=\"ols\", trendline_options=dict(log_x=True), color_continuous_scale=\"Spectral\",hover_data=df[['Country']])\n",
    "\n",
    "plt.show()"
   ]
  },
  {
   "cell_type": "code",
   "execution_count": 25,
   "metadata": {},
   "outputs": [
    {
     "name": "stdout",
     "output_type": "stream",
     "text": [
      "Média da população:  443057546.9\n",
      "Soma total da população:  4430575469.0\n",
      "Variância da população 2.4841048151899213e+17\n"
     ]
    }
   ],
   "source": [
    "# Calcular média, soma e variância\n",
    "mean_population = top_10_population['Population'].mean()\n",
    "total_population = top_10_population['Population'].sum()\n",
    "variance_population = top_10_population['Population'].var()\n",
    "\n",
    "print('Média da população: ', mean_population)\n",
    "print('Soma total da população: ', total_population)\n",
    "print('Variância da população', variance_population)"
   ]
  },
  {
   "cell_type": "code",
   "execution_count": 26,
   "metadata": {},
   "outputs": [
    {
     "name": "stdout",
     "output_type": "stream",
     "text": [
      "127    13.89\n",
      "Name: Birth Rate, dtype: float64\n",
      "127    25666161.0\n",
      "Name: Population, dtype: float64\n",
      "127    1469000.0\n",
      "Name: Armed Forces size, dtype: float64\n"
     ]
    }
   ],
   "source": [
    "# Selecionando alguns dados da Coreia do Norte\n",
    "birth_rate_north_korea = df.loc[df['Country'] == 'North Korea', 'Birth Rate']\n",
    "population_north_korea = df.loc[df['Country'] == 'North Korea', 'Population']\n",
    "armed_forces_north_korea = df.loc[df['Country'] == 'North Korea', 'Armed Forces size']\n",
    "\n",
    "print(birth_rate_north_korea)\n",
    "print(population_north_korea)\n",
    "print(armed_forces_north_korea)"
   ]
  },
  {
   "cell_type": "markdown",
   "metadata": {},
   "source": [
    "Aqui podemos observar que em países onde o alistamento militar é obrigatório, a relação entre a população e as forças armadas é bastante próxima, especialmente quando se desconsidera a população feminina, que geralmente não é obrigada a se alistar. No entanto, há uma exceção notável: a Coreia do Norte, onde o alistamento militar é obrigatório para ambos os sexos. Por esse motivo, a Coreia do Norte figura entre os países com um grande contingente militar, apesar de não estar entre os mais populosos, dado que sua taxa de natalidade é relativamente baixa."
   ]
  },
  {
   "cell_type": "code",
   "execution_count": 27,
   "metadata": {},
   "outputs": [
    {
     "name": "stdout",
     "output_type": "stream",
     "text": [
      "                              Country  Gasoline Price\n",
      "38                            Comoros             NaN\n",
      "48                           Dominica             NaN\n",
      "53                  Equatorial Guinea             NaN\n",
      "70                      Guinea-Bissau             NaN\n",
      "89                           Kiribati             NaN\n",
      "111    Federated States of Micronesia             NaN\n",
      "132                             Palau             NaN\n",
      "145             Saint Kitts and Nevis             NaN\n",
      "147  Saint Vincent and the Grenadines             NaN\n",
      "149                        San Marino             NaN\n",
      "150               São Tomé e Príncipe             NaN\n",
      "154                        Seychelles             NaN\n",
      "159                   Solomon Islands             NaN\n",
      "176                             Tonga             NaN\n",
      "181                            Tuvalu             NaN\n"
     ]
    }
   ],
   "source": [
    "# Verificar se há valores NaN na coluna de Total tax rate\n",
    "df_total_tax = df[df['Gasoline Price'].isna()]\n",
    "\n",
    "# Exibir as linhas que contêm valores NaN na coluna de Total tax rate\n",
    "print(df_total_tax[['Country', 'Gasoline Price']])"
   ]
  },
  {
   "cell_type": "code",
   "execution_count": 28,
   "metadata": {},
   "outputs": [],
   "source": [
    "# Preencher os valores NaN com 0\n",
    "df['Gasoline Price'].fillna(0, inplace=True)"
   ]
  },
  {
   "cell_type": "code",
   "execution_count": 29,
   "metadata": {},
   "outputs": [
    {
     "name": "stdout",
     "output_type": "stream",
     "text": [
      "0\n"
     ]
    }
   ],
   "source": [
    "print(df['Gasoline Price'].isna().sum())"
   ]
  },
  {
   "cell_type": "code",
   "execution_count": 30,
   "metadata": {},
   "outputs": [],
   "source": [
    "# Classificar os países com base no Preço da Gasolina\n",
    "sorted_countries_gasoline = df.sort_values(by='Gasoline Price', ascending=False)"
   ]
  },
  {
   "cell_type": "code",
   "execution_count": 31,
   "metadata": {},
   "outputs": [
    {
     "name": "stdout",
     "output_type": "stream",
     "text": [
      "           Country  Gasoline Price\n",
      "54         Eritrea            2.00\n",
      "14        Barbados            1.81\n",
      "129         Norway            1.78\n",
      "98   Liechtenstein            1.74\n",
      "76         Iceland            1.69\n",
      "122    Netherlands            1.68\n",
      "104       Maldives            1.63\n",
      "83           Italy            1.61\n",
      "82          Israel            1.57\n",
      "46         Denmark            1.55\n"
     ]
    }
   ],
   "source": [
    "# Selecionar os 10 países com os maiores preços de gasolina\n",
    "top_10_gasoline = sorted_countries_gasoline.head(10)\n",
    "\n",
    "# Exibir os resultados\n",
    "print(top_10_gasoline[['Country', 'Gasoline Price']])"
   ]
  },
  {
   "cell_type": "code",
   "execution_count": 34,
   "metadata": {},
   "outputs": [
    {
     "data": {
      "image/png": "[encoded data removed]",
      "text/plain": [
       "<Figure size 1000x600 with 1 Axes>"
      ]
     },
     "metadata": {},
     "output_type": "display_data"
    }
   ],
   "source": [
    "# Plotar o gráfico de barras\n",
    "plt.figure(figsize=(10, 6))\n",
    "sns.barplot(x='Gasoline Price', y='Country', data=top_10_gasoline, palette='viridis')\n",
    "plt.xlabel('Preço da Gasolina')\n",
    "plt.ylabel('País')\n",
    "plt.title('Top 10 Países com Gasolina mais caro \\n (preço da gasolina por litro em USD)')\n",
    "\n",
    "# Ajustar o eixo x para exibir valores mais legíveis\n",
    "plt.ticklabel_format(style='plain', axis='x')\n",
    "\n",
    "plt.show()"
   ]
  },
  {
   "cell_type": "code",
   "execution_count": null,
   "metadata": {},
   "outputs": [
    {
     "name": "stdout",
     "output_type": "stream",
     "text": [
      "Média da população:  1.7060000000000002\n",
      "Soma total da população:  17.060000000000002\n",
      "Variância da população 0.018071111111111107\n"
     ]
    }
   ],
   "source": [
    "# Calcular média, soma e variância\n",
    "mean_gasoline_price = top_10_gasoline['Gasoline Price'].mean()\n",
    "total_gasoline_price = top_10_gasoline['Gasoline Price'].sum()\n",
    "variance_gasoline_price = top_10_gasoline['Gasoline Price'].var()\n",
    "\n",
    "print('Média da população: ', mean_gasoline_price)\n",
    "print('Soma total da população: ', total_gasoline_price)\n",
    "print('Variância da população', variance_gasoline_price)"
   ]
  },
  {
   "cell_type": "code",
   "execution_count": null,
   "metadata": {},
   "outputs": [
    {
     "name": "stdout",
     "output_type": "stream",
     "text": [
      "Country                                               Brazil\n",
      "Density\\n(P/Km2)                                        25.0\n",
      "Abbreviation                                              BR\n",
      "Agricultural Land( %)                                   33.9\n",
      "Land Area(Km2)                                     8515770.0\n",
      "Armed Forces size                                   730000.0\n",
      "Birth Rate                                             13.92\n",
      "Calling Code                                            55.0\n",
      "Capital/Major City                                   Bras���\n",
      "Co2-Emissions                                       462299.0\n",
      "CPI                                                    167.4\n",
      "CPI Change (%)                                           3.7\n",
      "Currency-Code                                            BRL\n",
      "Fertility Rate                                          1.73\n",
      "Forested Area (%)                                       58.9\n",
      "Gasoline Price                                          1.02\n",
      "GDP                                          1839758040766.0\n",
      "Gross primary education enrollment (%)                 115.4\n",
      "Gross tertiary education enrollment (%)                 51.3\n",
      "Infant mortality                                        12.8\n",
      "Largest city                                           S����\n",
      "Life expectancy                                         75.7\n",
      "Maternal mortality ratio                                60.0\n",
      "Minimum wage                                            1.53\n",
      "Official language                                 Portuguese\n",
      "Out of pocket health expenditure                        28.3\n",
      "Physicians per thousand                                 2.15\n",
      "Population                                       212559417.0\n",
      "Population: Labor force participation (%)               63.9\n",
      "Tax revenue (%)                                         14.2\n",
      "Total tax rate                                          65.1\n",
      "Unemployment rate                                      12.08\n",
      "Urban_population                                 183241641.0\n",
      "Latitude                                          -14.235004\n",
      "Longitude                                          -51.92528\n",
      "Name: 23, dtype: object\n"
     ]
    }
   ],
   "source": [
    "# Encontrar o índice da linha correspondente ao Brasil\n",
    "brazil_index = df[df['Country'] == 'Brazil'].index[0]\n",
    "\n",
    "# Selecionar apenas os dados referentes ao Brasil\n",
    "brazil_data = df.iloc[brazil_index]\n",
    "\n",
    "# Exibir os dados referentes ao Brasil\n",
    "print(brazil_data)"
   ]
  },
  {
   "cell_type": "code",
   "execution_count": null,
   "metadata": {},
   "outputs": [
    {
     "name": "stdout",
     "output_type": "stream",
     "text": [
      "Country                                                Tonga\n",
      "Density\\n(P/Km2)                                       147.0\n",
      "Abbreviation                                              TO\n",
      "Agricultural Land( %)                                   45.8\n",
      "Land Area(Km2)                                         747.0\n",
      "Armed Forces size                                        0.0\n",
      "Birth Rate                                              24.3\n",
      "Calling Code                                           676.0\n",
      "Capital/Major City                                  Nuku����\n",
      "Co2-Emissions                                          128.0\n",
      "CPI                                                   121.09\n",
      "CPI Change (%)                                           7.4\n",
      "Currency-Code                                            TOP\n",
      "Fertility Rate                                          3.56\n",
      "Forested Area (%)                                       12.5\n",
      "Gasoline Price                                           NaN\n",
      "GDP                                              450353314.0\n",
      "Gross primary education enrollment (%)                 116.3\n",
      "Gross tertiary education enrollment (%)                  6.4\n",
      "Infant mortality                                        13.4\n",
      "Largest city                                        Nuku����\n",
      "Life expectancy                                         70.8\n",
      "Maternal mortality ratio                                52.0\n",
      "Minimum wage                                             NaN\n",
      "Official language                            Tongan Language\n",
      "Out of pocket health expenditure                        10.2\n",
      "Physicians per thousand                                 0.52\n",
      "Population                                          100209.0\n",
      "Population: Labor force participation (%)               59.8\n",
      "Tax revenue (%)                                         22.3\n",
      "Total tax rate                                          27.5\n",
      "Unemployment rate                                       1.12\n",
      "Urban_population                                     24145.0\n",
      "Latitude                                          -21.178986\n",
      "Longitude                                        -175.198242\n",
      "Name: 176, dtype: object\n"
     ]
    }
   ],
   "source": [
    "# Encontrar o índice da linha correspondente à Suíça\n",
    "suica_index = df[df['Country'] == 'Switzerland'].index[0]\n",
    "\n",
    "# Selecionar apenas os dados referentes à Suíça\n",
    "suica_data = df.iloc[suica_index]\n",
    "\n",
    "# Exibir os dados referentes à Suíça\n",
    "print(suica_data)"
   ]
  },
  {
   "cell_type": "code",
   "execution_count": null,
   "metadata": {},
   "outputs": [
    {
     "data": {
      "image/png": "[encoded data removed]",
      "text/plain": [
       "<Figure size 640x480 with 1 Axes>"
      ]
     },
     "metadata": {},
     "output_type": "display_data"
    }
   ],
   "source": [
    "# Selecionar os dados do Brasil e Suíça\n",
    "switzerland_data = df[df['Country'] == 'Switzerland']\n",
    "brazil_data = df[df['Country'] == 'Brazil']\n",
    "\n",
    "# Comparar a população entre Brasil e Suíça\n",
    "countries = ['Switzerland', 'Brazil']\n",
    "populations = [switzerland_data['Population'].values[0], brazil_data['Population'].values[0]]\n",
    "\n",
    "plt.bar(countries, populations)\n",
    "plt.title('Comparação de População: Brazil vs Switzerland')\n",
    "plt.xlabel('País')\n",
    "plt.ylabel('Tamanho da População')\n",
    "plt.show()"
   ]
  },
  {
   "cell_type": "code",
   "execution_count": null,
   "metadata": {},
   "outputs": [
    {
     "data": {
      "image/png": "[encoded data removed]",
      "text/plain": [
       "<Figure size 640x480 with 1 Axes>"
      ]
     },
     "metadata": {},
     "output_type": "display_data"
    }
   ],
   "source": [
    "# Selecionar os dados do Brasil e Suíça\n",
    "switzerland_data = df[df['Country'] == 'Switzerland']\n",
    "brazil_data = df[df['Country'] == 'Brazil']\n",
    "\n",
    "# Comparar a população entre Brasil e Suíça\n",
    "countries = ['Switzerland', 'Brazil']\n",
    "populations = [switzerland_data['Armed Forces size'].values[0], brazil_data['Armed Forces size'].values[0]]\n",
    "\n",
    "plt.bar(countries, populations)\n",
    "plt.title('Comparação do Tamanho das Forças Armadas: Brazil vs Switzerland')\n",
    "plt.xlabel('País')\n",
    "plt.ylabel('Tamanho das Forças Armadas')\n",
    "plt.show()"
   ]
  },
  {
   "cell_type": "code",
   "execution_count": null,
   "metadata": {},
   "outputs": [
    {
     "data": {
      "image/png": "[encoded data removed]",
      "text/plain": [
       "<Figure size 640x480 with 1 Axes>"
      ]
     },
     "metadata": {},
     "output_type": "display_data"
    }
   ],
   "source": [
    "# Selecionar os dados do Brasil e Suíça\n",
    "switzerland_data = df[df['Country'] == 'Switzerland']\n",
    "brazil_data = df[df['Country'] == 'Brazil']\n",
    "\n",
    "# Comparar a população entre Brasil e Suíça\n",
    "countries = ['Switzerland', 'Brazil']\n",
    "populations = [switzerland_data['Life expectancy'].values[0], brazil_data['Life expectancy'].values[0]]\n",
    "\n",
    "plt.bar(countries, populations)\n",
    "plt.title('Comparação da Expectativa de vida: Brazil vs Switzerland')\n",
    "plt.xlabel('País')\n",
    "plt.ylabel('Expectativa de vida')\n",
    "plt.show()"
   ]
  },
  {
   "cell_type": "code",
   "execution_count": null,
   "metadata": {},
   "outputs": [
    {
     "data": {
      "image/png": "[encoded data removed]",
      "text/plain": [
       "<Figure size 640x480 with 1 Axes>"
      ]
     },
     "metadata": {},
     "output_type": "display_data"
    }
   ],
   "source": [
    "# Selecionar os dados do Brasil e Suíça\n",
    "switzerland_data = df[df['Country'] == 'Switzerland']\n",
    "brazil_data = df[df['Country'] == 'Brazil']\n",
    "\n",
    "# Comparar a população entre Brasil e Suíça\n",
    "countries = ['Switzerland', 'Brazil']\n",
    "populations = [switzerland_data['Infant mortality'].values[0], brazil_data['Infant mortality'].values[0]]\n",
    "\n",
    "plt.bar(countries, populations)\n",
    "plt.title('Comparação da Mortalidade infantil: Brazil vs Switzerland \\n Número de mortes por 1.000 nascidos vivos antes de completarem um ano de idade')\n",
    "plt.xlabel('País')\n",
    "plt.ylabel('Mortalidade infantil')\n",
    "plt.show()"
   ]
  },
  {
   "cell_type": "code",
   "execution_count": null,
   "metadata": {},
   "outputs": [
    {
     "data": {
      "image/png": "[encoded data removed]",
      "text/plain": [
       "<Figure size 640x480 with 1 Axes>"
      ]
     },
     "metadata": {},
     "output_type": "display_data"
    }
   ],
   "source": [
    "# Selecionar os dados do Brasil e Suíça\n",
    "switzerland_data = df[df['Country'] == 'Switzerland']\n",
    "brazil_data = df[df['Country'] == 'Brazil']\n",
    "\n",
    "# Comparar a população entre Brasil e Suíça\n",
    "countries = ['Switzerland', 'Brazil']\n",
    "populations = [switzerland_data['Birth Rate'].values[0], brazil_data['Birth Rate'].values[0]]\n",
    "\n",
    "plt.bar(countries, populations)\n",
    "plt.title('Comparação da Taxa de Natalidade: Brazil vs Switzerland \\n (nascimentos por 1.000 habitantes por ano)')\n",
    "plt.xlabel('País')\n",
    "plt.ylabel('Taxa de Natalidade')\n",
    "plt.show()"
   ]
  },
  {
   "cell_type": "code",
   "execution_count": null,
   "metadata": {},
   "outputs": [
    {
     "data": {
      "image/png": "[encoded data removed]",
      "text/plain": [
       "<Figure size 640x480 with 1 Axes>"
      ]
     },
     "metadata": {},
     "output_type": "display_data"
    }
   ],
   "source": [
    "# Selecionar os dados do Brasil e Suíça\n",
    "switzerland_data = df[df['Country'] == 'Switzerland']\n",
    "brazil_data = df[df['Country'] == 'Brazil']\n",
    "\n",
    "# Comparar a população entre Brasil e Suíça\n",
    "countries = ['Switzerland', 'Brazil']\n",
    "populations = [switzerland_data['Maternal mortality ratio'].values[0], brazil_data['Maternal mortality ratio'].values[0]]\n",
    "\n",
    "plt.bar(countries, populations)\n",
    "plt.title('Comparação da Taxa de Mortalidade Materna: Brazil vs Switzerland \\n Número de mortes maternas por 100.000 nascidos vivos')\n",
    "plt.xlabel('País')\n",
    "plt.ylabel('Taxa de Mortalidade Materna')\n",
    "plt.show()"
   ]
  },
  {
   "cell_type": "code",
   "execution_count": null,
   "metadata": {},
   "outputs": [
    {
     "name": "stdout",
     "output_type": "stream",
     "text": [
      "          Country  Total tax rate\n",
      "3         Andorra             NaN\n",
      "42           Cuba             NaN\n",
      "127   North Korea             NaN\n",
      "160       Somalia             NaN\n",
      "180  Turkmenistan             NaN\n",
      "181        Tuvalu             NaN\n"
     ]
    }
   ],
   "source": [
    "# Verificar se há valores NaN na coluna de Total tax rate\n",
    "df_total_tax = df[df['Total tax rate'].isna()]\n",
    "\n",
    "# Exibir as linhas que contêm valores NaN na coluna de Total tax rate\n",
    "print(df_total_tax[['Country', 'Total tax rate']])"
   ]
  },
  {
   "cell_type": "code",
   "execution_count": null,
   "metadata": {},
   "outputs": [],
   "source": [
    "# Preencher os valores NaN com 0\n",
    "df['Total tax rate'].fillna(0, inplace=True)"
   ]
  },
  {
   "cell_type": "code",
   "execution_count": null,
   "metadata": {},
   "outputs": [
    {
     "name": "stdout",
     "output_type": "stream",
     "text": [
      "0\n"
     ]
    }
   ],
   "source": [
    "print(df['Total tax rate'].isna().sum())"
   ]
  },
  {
   "cell_type": "code",
   "execution_count": null,
   "metadata": {},
   "outputs": [
    {
     "data": {
      "image/png": "[encoded data removed]",
      "text/plain": [
       "<Figure size 640x480 with 1 Axes>"
      ]
     },
     "metadata": {},
     "output_type": "display_data"
    }
   ],
   "source": [
    "# Selecionar os dados do Brasil e Suíça\n",
    "switzerland_data = df[df['Country'] == 'Switzerland']\n",
    "brazil_data = df[df['Country'] == 'Brazil']\n",
    "\n",
    "# Comparar a população entre Brasil e Suíça\n",
    "countries = ['Switzerland', 'Brazil']\n",
    "populations = [switzerland_data['Total tax rate'].values[0], brazil_data['Total tax rate'].values[0]]\n",
    "\n",
    "plt.bar(countries, populations)\n",
    "plt.title('Comparação da Taxa Total de Impostos: Brazil vs Switzerland')\n",
    "plt.xlabel('País')\n",
    "plt.ylabel('Taxa total de impostos')\n",
    "plt.show()"
   ]
  },
  {
   "cell_type": "code",
   "execution_count": null,
   "metadata": {},
   "outputs": [
    {
     "data": {
      "image/png": "[encoded data removed]",
      "text/plain": [
       "<Figure size 640x480 with 1 Axes>"
      ]
     },
     "metadata": {},
     "output_type": "display_data"
    }
   ],
   "source": [
    "# Selecionar os dados do Brasil e Suíça\n",
    "switzerland_data = df[df['Country'] == 'Switzerland']\n",
    "brazil_data = df[df['Country'] == 'Brazil']\n",
    "\n",
    "# Comparar a população entre Brasil e Suíça\n",
    "countries = ['Switzerland', 'Brazil']\n",
    "populations = [switzerland_data['Gasoline Price'].values[0], brazil_data['Gasoline Price'].values[0]]\n",
    "\n",
    "plt.bar(countries, populations)\n",
    "plt.title('Comparação do Preço da Gasolina: Brazil vs Switzerland')\n",
    "plt.xlabel('País')\n",
    "plt.ylabel('Preço da Gasolina')\n",
    "plt.show()"
   ]
  },
  {
   "cell_type": "markdown",
   "metadata": {},
   "source": [
    "Algumas comparações entre dados do Brasil e Suíça no qual vermos a disparidade entre os dois países."
   ]
  }
 ],
 "metadata": {
  "kernelspec": {
   "display_name": "Python computer-vision",
   "language": "python",
   "name": "computer-vision"
  },
  "language_info": {
   "codemirror_mode": {
    "name": "ipython",
    "version": 3
   },
   "file_extension": ".py",
   "mimetype": "text/x-python",
   "name": "python",
   "nbconvert_exporter": "python",
   "pygments_lexer": "ipython3",
   "version": "3.10.5"
  }
 },
 "nbformat": 4,
 "nbformat_minor": 2
}
